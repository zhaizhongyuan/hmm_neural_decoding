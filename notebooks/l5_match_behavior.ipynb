{
 "cells": [
  {
   "cell_type": "code",
   "execution_count": 1,
   "id": "78dc2711",
   "metadata": {},
   "outputs": [],
   "source": [
    "import os\n",
    "import sys\n",
    "sys.path.append('../libraries/') # Append the path within which the user-defined class is in\n",
    "from data_loader import data_loader\n",
    "from behavior_loader import bsoid_loader\n",
    "\n",
    "import joblib\n",
    "from joblib import Parallel, delayed\n",
    "import time\n",
    "import pickle\n",
    "\n",
    "import autograd.numpy as np\n",
    "import autograd.numpy.random as npr\n",
    "npr.seed(0)\n",
    "\n",
    "from hmmlearn import hmm\n",
    "import matplotlib.pyplot as plt\n",
    "import numpy as np\n",
    "from tkinter import *\n",
    "from tkinter.filedialog import askopenfilename, askdirectory\n",
    "from tqdm import tqdm\n",
    "import scipy.stats as stats\n",
    "\n",
    "import matplotlib.pyplot as plt\n",
    "%matplotlib inline\n",
    "\n",
    "import seaborn as sns\n",
    "sns.set_style(\"white\")\n",
    "sns.set_context(\"talk\")\n",
    "\n",
    "import ssm\n",
    "from ssm.util import find_permutation\n",
    "from ssm.plots import gradient_cmap, white_to_color_cmap"
   ]
  },
  {
   "cell_type": "markdown",
   "id": "efc48cfd",
   "metadata": {},
   "source": [
    "## functions to load neural data"
   ]
  },
  {
   "cell_type": "code",
   "execution_count": 2,
   "id": "24ce36af",
   "metadata": {},
   "outputs": [
    {
     "name": "stdout",
     "output_type": "stream",
     "text": [
      "Spike times are binned into shape for hmm: (36000, 46)\n"
     ]
    }
   ],
   "source": [
    "data_dir = r'../processed_data'\n",
    "file_name = r'm1_fr0.1hz_30hz_0s_7200s_0.1s_bins_nooverlap.sav'\n",
    "d_l = data_loader(data_dir, file_name)\n",
    "data = d_l.load_data()"
   ]
  },
  {
   "cell_type": "markdown",
   "id": "9216dd6e",
   "metadata": {},
   "source": [
    "## functions to load behavior"
   ]
  },
  {
   "cell_type": "code",
   "execution_count": 3,
   "id": "84103b47",
   "metadata": {},
   "outputs": [
    {
     "name": "stdout",
     "output_type": "stream",
     "text": [
      "mouse stayed in nest for 0.28108749470484795% of time\n",
      "File #0 (a 6 body parts by 984391 frames) has 30 classes\n"
     ]
    }
   ],
   "source": [
    "file_name = r'ag25290_day2_iter13'\n",
    "# Load behaviors\n",
    "behavior_loader = bsoid_loader(data_dir, file_name)\n",
    "f_index, filtered_data, smoothed_predictions = behavior_loader.main()"
   ]
  },
  {
   "cell_type": "code",
   "execution_count": 4,
   "id": "20fc8456-1689-42b4-9c97-a7fb424e004a",
   "metadata": {},
   "outputs": [],
   "source": [
    "# Correct prediction start\n",
    "framerate = 60\n",
    "delay = 6.8503\n",
    "behavior_start = int(delay * framerate)  # start of behavior\n",
    "smoothed_predictions_1h = smoothed_predictions[behavior_start:(behavior_start+3600*60)]"
   ]
  },
  {
   "cell_type": "code",
   "execution_count": 8,
   "id": "89891d5a-63e4-493e-b360-dee2a4911d41",
   "metadata": {},
   "outputs": [],
   "source": [
    "K = 16"
   ]
  },
  {
   "cell_type": "code",
   "execution_count": 9,
   "id": "e4af420d-7af2-4303-9254-c183f78c5ea5",
   "metadata": {},
   "outputs": [],
   "source": [
    "model_dir = \"../hmm_models/\""
   ]
  },
  {
   "cell_type": "code",
   "execution_count": 10,
   "id": "89322cdf",
   "metadata": {},
   "outputs": [
    {
     "name": "stdout",
     "output_type": "stream",
     "text": [
      "1h_l5_possion_merged_16_latents.hmm loaded.\n"
     ]
    }
   ],
   "source": [
    "# Load merged model\n",
    "hmm_mrg = pickle.load(open(os.path.join(model_dir, f\"1h_l5_possion_merged_{K}_latents\" + \".hmm\"), \"rb\"))\n",
    "print(f'1h_l5_possion_merged_{K}_latents.hmm loaded.')"
   ]
  },
  {
   "cell_type": "code",
   "execution_count": 11,
   "id": "101e81e1-a0e4-4f7e-8b80-74078311e2be",
   "metadata": {},
   "outputs": [
    {
     "data": {
      "text/plain": [
       "537309.4751941374"
      ]
     },
     "execution_count": 11,
     "metadata": {},
     "output_type": "execute_result"
    }
   ],
   "source": [
    "hmm_mrg.score(data)"
   ]
  },
  {
   "cell_type": "code",
   "execution_count": 74,
   "id": "4f0c155f-537f-42bd-92d8-e89c12dd33d8",
   "metadata": {},
   "outputs": [
    {
     "name": "stdout",
     "output_type": "stream",
     "text": [
      "1h_l5_possion_direct_150_latents.hmm loaded.\n"
     ]
    }
   ],
   "source": [
    "# Load model\n",
    "hmm_dir = pickle.load(open(os.path.join(model_dir, f\"1h_l5_possion_direct_{K}_latents\" + \".hmm\"), \"rb\"))\n",
    "print(f'1h_l5_possion_direct_{K}_latents.hmm loaded.')"
   ]
  },
  {
   "cell_type": "code",
   "execution_count": 75,
   "id": "85db1da2-16ee-45b9-b109-f99ce3521755",
   "metadata": {},
   "outputs": [
    {
     "data": {
      "text/plain": [
       "877671.2286170352"
      ]
     },
     "execution_count": 75,
     "metadata": {},
     "output_type": "execute_result"
    }
   ],
   "source": [
    "hmm_dir.score(data)"
   ]
  },
  {
   "cell_type": "markdown",
   "id": "61cb2d56",
   "metadata": {
    "tags": []
   },
   "source": [
    "## behavior names"
   ]
  },
  {
   "cell_type": "code",
   "execution_count": null,
   "id": "8aac5b0c",
   "metadata": {
    "tags": []
   },
   "outputs": [],
   "source": [
    "names = ['torso groom', 'investigate type 0', 'unsure', 'wall rear type 1', 'rear',\n",
    "         'unsure', 'wall rear type 2', 'investigate type 1', 'investigate type 2', 'contra-itch',\n",
    "         'investigate type 3', 'sleep/scrunch type 1', 'sleep/scrunch type 2', 'wall rear type 3', 'contra-body groom',\n",
    "         'face groom type 1', 'dive/scrunch', 'head groom', 'ipsi-orient', 'ipsi-investigate',\n",
    "         'face groom type 2', 'ipsi-body groom', 'ipsi-itch type 1', 'ipsi-itch type 2', 'face groom type 3', \n",
    "         'paw groom', 'locomotion', 'contra-forepaw orient', 'contra-orient']"
   ]
  },
  {
   "cell_type": "code",
   "execution_count": 12,
   "id": "1742cdf9-7f81-4c17-9b13-5d74e6fab177",
   "metadata": {},
   "outputs": [],
   "source": [
    "names_mod = ['insignificant', 'insignificant', 'insignificant', 'insignificant', 'rear',\n",
    "         'insignificant', 'insignificant', 'investigate type 1', 'investigate type 2', 'contra-itch',\n",
    "         'investigate type 3', 'insignificant', 'insignificant', 'insignificant', 'contra-body groom',\n",
    "         'face groom type 1', 'dive/scrunch', 'head groom', 'ipsi-orient', 'insignificant',\n",
    "         'face groom type 2', 'ipsi-body groom', 'ipsi-itch type 1', 'insignificant', 'insignificant', \n",
    "         'paw groom', 'locomotion', 'insignificant', 'contra-orient']"
   ]
  },
  {
   "cell_type": "markdown",
   "id": "bd4aed4d-b03a-4864-ab12-4096a5268259",
   "metadata": {},
   "source": [
    "## associate each hmm state to the behavior appearing the most during this state"
   ]
  },
  {
   "cell_type": "code",
   "execution_count": 13,
   "id": "4593505a-567b-4cc7-918a-e61680309725",
   "metadata": {},
   "outputs": [],
   "source": [
    "def hmm_state_to_behavior(hmm_model, data, behavior_predictions, lead_seconds, lag_seconds, framerate, hmm_samplerate, names):\n",
    "    print(50*'=')\n",
    "    print(f'A {hmm_model.n_components}-state hmm is used to match with behaviors.')\n",
    "    print(50*'-')\n",
    "    \n",
    "    def most_freq_behav_idx(uniq_behavs, uniq_behavs_cnts):\n",
    "        uniq_behavs_indcs = np.argsort(-uniq_behavs_cnts)  \n",
    "        for uniq_behavs_indc in uniq_behavs_indcs:\n",
    "            idt_behav = int(uniq_behavs[uniq_behavs_indc])\n",
    "            if names[idt_behav] != 'insignificant':\n",
    "                return idt_behav\n",
    "        return -1\n",
    "    \n",
    "    end_behav_idx = len(behavior_predictions)\n",
    "    hmm_states = hmm_model.predict(data)\n",
    "    \n",
    "    idt_behav_for_states = np.ones(len(np.unique(hmm_states)))\n",
    "    idt_behav_for_states_names = []\n",
    "    for i, hmm_state in enumerate(np.unique(hmm_states)):\n",
    "        state_idcs = np.where(hmm_states == hmm_state)[0]\n",
    "        behav_idcs = state_idcs * int(framerate/hmm_samplerate)\n",
    "        idt_behavs_list = [] # identified behaviors list\n",
    "        for behav_idx in behav_idcs:\n",
    "            # Start index is 100ms ahead on-site\n",
    "            start_idx = behav_idx - int(framerate/hmm_samplerate * (lead_seconds/0.1))\n",
    "            if start_idx < 0:\n",
    "                start_idx = 0\n",
    "            # End index is 300ms behind on-site\n",
    "            end_idx = behav_idx + int(framerate/hmm_samplerate * (lag_seconds/0.1))\n",
    "            if end_idx > end_behav_idx:\n",
    "                end_idx = end_behav_idx\n",
    "            # Access identified behaviors using behavior indices\n",
    "            behav_idcs_rng = np.arange(start_idx, end_idx)\n",
    "            behavs = behavior_predictions[behav_idcs_rng]\n",
    "            uniq_behavs, uniq_behavs_cnts = np.unique(behavs, return_counts=True)\n",
    "            # Winner takes all\n",
    "            idt_behav = most_freq_behav_idx(uniq_behavs, uniq_behavs_cnts)\n",
    "            if idt_behav != -1:\n",
    "                idt_behavs_list.append(idt_behav)\n",
    "        idt_behavs = np.array(idt_behavs_list)  \n",
    "        uniq_idt_behavs, uniq_idt_behavs_cnts = np.unique(idt_behavs, return_counts=True)\n",
    "        idt_behav_for_states[i] = most_freq_behav_idx(uniq_idt_behavs, uniq_idt_behavs_cnts)\n",
    "        idt_behav_for_states_names.append(names[int(idt_behav_for_states[i])])\n",
    "        idt_behav_for_states = idt_behav_for_states.astype(int)\n",
    "    print('Identified behaviors are: ' + str(idt_behav_for_states_names))\n",
    "    print(50*'-')\n",
    "    print(f'{len(np.unique(idt_behav_for_states))} unique behaviors identified.')\n",
    "    print(50*'-')\n",
    "    uniq_idt_behav_for_states, uniq_idt_behav_for_states_cnts = np.unique(idt_behav_for_states, return_counts=True)\n",
    "    uniq_idt_behavs_for_states_indcs = np.argsort(-uniq_idt_behav_for_states_cnts)\n",
    "    for uniq_idt_behavs_for_states_indc in uniq_idt_behavs_for_states_indcs:\n",
    "        print(names[int(uniq_idt_behav_for_states[int(uniq_idt_behavs_for_states_indc)])] + f': {int(uniq_idt_behav_for_states_cnts[uniq_idt_behavs_for_states_indc])}')\n",
    "    print(50*'=')"
   ]
  },
  {
   "cell_type": "markdown",
   "id": "0836b43c-2010-452c-b293-17973326c44e",
   "metadata": {},
   "source": [
    "## behaviors identified by a merged hmm"
   ]
  },
  {
   "cell_type": "code",
   "execution_count": 14,
   "id": "7fbf69b9-2d8a-4290-be03-07b5db216396",
   "metadata": {},
   "outputs": [
    {
     "name": "stdout",
     "output_type": "stream",
     "text": [
      "==================================================\n",
      "A 16-state hmm is used to match with behaviors.\n",
      "--------------------------------------------------\n",
      "Identified behaviors are: ['locomotion', 'locomotion', 'locomotion', 'locomotion', 'face groom type 1', 'investigate type 2', 'investigate type 2', 'contra-itch', 'contra-body groom', 'face groom type 1', 'locomotion', 'locomotion', 'investigate type 2', 'locomotion', 'investigate type 2', 'investigate type 2']\n",
      "--------------------------------------------------\n",
      "5 unique behaviors identified.\n",
      "--------------------------------------------------\n",
      "locomotion: 7\n",
      "investigate type 2: 5\n",
      "face groom type 1: 2\n",
      "contra-itch: 1\n",
      "contra-body groom: 1\n",
      "==================================================\n"
     ]
    }
   ],
   "source": [
    "hmm_state_to_behavior(hmm_model=hmm_mrg, \n",
    "                      data=data, \n",
    "                      behavior_predictions=smoothed_predictions_1h, \n",
    "                      framerate=60, \n",
    "                      hmm_samplerate=10,\n",
    "                      lead_seconds=0.1,\n",
    "                      lag_seconds=0.3,\n",
    "                      names=names_mod) # Can use either names or names_mod as input behaviors"
   ]
  },
  {
   "cell_type": "markdown",
   "id": "bbb15801-aed1-4747-9534-67a5eef33664",
   "metadata": {},
   "source": [
    "## behaviors identified by a direct hmm"
   ]
  },
  {
   "cell_type": "code",
   "execution_count": 78,
   "id": "a203958c-6456-4c77-8aaf-9a4867663767",
   "metadata": {},
   "outputs": [
    {
     "name": "stdout",
     "output_type": "stream",
     "text": [
      "==================================================\n",
      "A 150-state hmm is used to match with behaviors.\n",
      "--------------------------------------------------\n",
      "Identified behaviors are: ['ipsi-itch type 1', 'investigate type 2', 'face groom type 1', 'investigate type 2', 'face groom type 1', 'investigate type 2', 'face groom type 1', 'investigate type 2', 'ipsi-body groom', 'contra-itch', 'face groom type 1', 'investigate type 2', 'investigate type 2', 'investigate type 2', 'locomotion', 'face groom type 1', 'investigate type 2', 'locomotion', 'head groom', 'ipsi-body groom', 'face groom type 1', 'investigate type 2', 'investigate type 2', 'investigate type 2', 'investigate type 2', 'ipsi-body groom', 'investigate type 2', 'face groom type 1', 'investigate type 2', 'contra-body groom', 'ipsi-body groom', 'ipsi-body groom', 'investigate type 2', 'ipsi-body groom', 'contra-body groom', 'contra-body groom', 'ipsi-body groom', 'investigate type 2', 'head groom', 'investigate type 2', 'face groom type 1', 'contra-body groom', 'contra-itch', 'investigate type 2', 'locomotion', 'ipsi-body groom', 'contra-itch', 'contra-body groom', 'face groom type 1', 'investigate type 2', 'locomotion', 'locomotion', 'investigate type 2', 'contra-body groom', 'contra-body groom', 'ipsi-body groom', 'face groom type 1', 'ipsi-body groom', 'investigate type 2', 'locomotion', 'investigate type 1', 'locomotion', 'contra-body groom', 'contra-itch', 'contra-itch', 'face groom type 1', 'locomotion', 'locomotion', 'investigate type 2', 'ipsi-body groom', 'face groom type 1', 'investigate type 2', 'locomotion', 'investigate type 2', 'investigate type 2', 'investigate type 2', 'investigate type 2', 'ipsi-body groom', 'contra-body groom', 'investigate type 2', 'locomotion', 'contra-itch', 'ipsi-body groom', 'locomotion', 'contra-body groom', 'face groom type 1', 'contra-itch', 'investigate type 2', 'investigate type 2', 'investigate type 2', 'investigate type 1', 'investigate type 2', 'investigate type 2', 'investigate type 2', 'investigate type 2', 'investigate type 1', 'face groom type 1', 'face groom type 1', 'investigate type 2', 'locomotion', 'investigate type 2', 'locomotion', 'face groom type 2', 'contra-body groom', 'locomotion', 'ipsi-body groom', 'locomotion', 'locomotion', 'locomotion', 'investigate type 1', 'contra-itch', 'face groom type 1', 'ipsi-body groom', 'face groom type 1', 'investigate type 2', 'investigate type 2', 'ipsi-body groom', 'head groom', 'head groom', 'face groom type 1', 'contra-itch', 'locomotion', 'contra-itch', 'ipsi-body groom', 'contra-body groom', 'paw groom', 'contra-itch', 'head groom', 'investigate type 2', 'face groom type 1', 'contra-itch', 'contra-body groom', 'investigate type 2', 'locomotion', 'investigate type 2', 'ipsi-body groom', 'investigate type 2', 'contra-itch', 'face groom type 1', 'investigate type 2', 'head groom', 'face groom type 1', 'investigate type 2', 'ipsi-body groom', 'ipsi-body groom', 'locomotion', 'ipsi-body groom', 'investigate type 2', 'locomotion', 'head groom']\n",
      "--------------------------------------------------\n",
      "11 unique behaviors identified.\n",
      "--------------------------------------------------\n",
      "investigate type 2: 46\n",
      "locomotion: 22\n",
      "face groom type 1: 21\n",
      "ipsi-body groom: 21\n",
      "contra-itch: 13\n",
      "contra-body groom: 13\n",
      "head groom: 7\n",
      "investigate type 1: 4\n",
      "face groom type 2: 1\n",
      "ipsi-itch type 1: 1\n",
      "paw groom: 1\n",
      "==================================================\n"
     ]
    }
   ],
   "source": [
    "hmm_state_to_behavior(hmm_model=hmm_dir, \n",
    "                      data=data, \n",
    "                      behavior_predictions=smoothed_predictions_1h, \n",
    "                      framerate=60, \n",
    "                      hmm_samplerate=10,\n",
    "                      lead_seconds=0.1,\n",
    "                      lag_seconds=0.3,\n",
    "                      names=names_mod) # Can use either names or names_mod as input behaviors"
   ]
  },
  {
   "cell_type": "markdown",
   "id": "fae964f1-0d67-47ed-ba7c-776f91385b84",
   "metadata": {},
   "source": [
    "## composition of hmm states in an identified behavior"
   ]
  },
  {
   "cell_type": "code",
   "execution_count": 69,
   "id": "efa574c5-ce85-4db7-b778-afd9301d4ee6",
   "metadata": {},
   "outputs": [],
   "source": [
    "def behavior_to_hmm_state_plot(behav_id, names, data, hmm_model, behavior_predictions, framerate, hmm_samplerate, save_figures):\n",
    "    non_behav_idcs_raw = np.where(behavior_predictions != behav_id)[0]\n",
    "    non_behav_idcs = np.unique((non_behav_idcs_raw / (framerate/hmm_samplerate)).astype(int))\n",
    "    \n",
    "    behav_idcs_raw = np.where(behavior_predictions == behav_id)[0]\n",
    "    behav_idcs = np.unique((behav_idcs_raw / (framerate/hmm_samplerate)).astype(int))\n",
    "    \n",
    "    hmm_states = hmm_model.predict(data)\n",
    "    \n",
    "    K = hmm_model.n_components\n",
    "    print(f'{len(np.unique(hmm_states[behav_idcs]))} states in a {K}-hmm have occurred during ' + names[behav_id] + '.')\n",
    "    \n",
    "    behav_states = hmm_states.copy()\n",
    "    behav_states[non_behav_idcs] = K\n",
    "    \n",
    "    s = sns.color_palette('RdPu', K+1)\n",
    "    s[K] = (1, 1, 1)\n",
    "    cmap = gradient_cmap(s)\n",
    "    \n",
    "    plt.figure(figsize=(8, 4))\n",
    "    plt.title('hmm states activated during ' + names[behav_id], fontsize=17)\n",
    "    plt.xlim(0, 600)\n",
    "    plt.xticks(np.arange(0, 36001, step=6000), np.arange(0, 3601, step=600)) #(Locations, labels)\n",
    "    plt.ylabel(\"$z_{\\\\mathrm{inferred}}$\")\n",
    "    plt.yticks([])\n",
    "    plt.xlabel('time(s)', fontsize=17)\n",
    "    plt.tight_layout()\n",
    "    plt.imshow(behav_states[None, :36000], aspect=\"auto\", cmap=cmap)\n",
    "    \n",
    "    if save_figures:\n",
    "        plt.savefig(f'../plots/{K}_hmm_l5_100ms_' + names[behav_id] + '.png')"
   ]
  },
  {
   "cell_type": "code",
   "execution_count": 70,
   "id": "1000315a-3e67-459e-9cb0-f363b42891d8",
   "metadata": {},
   "outputs": [
    {
     "name": "stdout",
     "output_type": "stream",
     "text": [
      "48 states in a 50-hmm have occurred during investigate type 2.\n"
     ]
    },
    {
     "data": {
      "image/png": "[encoded data removed]",
      "text/plain": [
       "<Figure size 576x288 with 1 Axes>"
      ]
     },
     "metadata": {},
     "output_type": "display_data"
    }
   ],
   "source": [
    "behavior_to_hmm_state_plot(behav_id=8, \n",
    "                           names=names_mod, \n",
    "                           data=data, \n",
    "                           hmm_model=hmm_dir, \n",
    "                           behavior_predictions=smoothed_predictions_1h, \n",
    "                           framerate=60, \n",
    "                           hmm_samplerate=10,\n",
    "                           save_figures=True)"
   ]
  },
  {
   "cell_type": "code",
   "execution_count": 71,
   "id": "3e64c34f-775b-47f5-9f14-ed855cea30d4",
   "metadata": {},
   "outputs": [
    {
     "name": "stdout",
     "output_type": "stream",
     "text": [
      "48 states in a 50-hmm have occurred during locomotion.\n"
     ]
    },
    {
     "data": {
      "image/png": "[encoded data removed]",
      "text/plain": [
       "<Figure size 576x288 with 1 Axes>"
      ]
     },
     "metadata": {},
     "output_type": "display_data"
    }
   ],
   "source": [
    "behavior_to_hmm_state_plot(behav_id=26, \n",
    "                           names=names_mod, \n",
    "                           data=data, \n",
    "                           hmm_model=hmm_dir, \n",
    "                           behavior_predictions=smoothed_predictions_1h, \n",
    "                           framerate=60, \n",
    "                           hmm_samplerate=10,\n",
    "                           save_figures=True)"
   ]
  },
  {
   "cell_type": "code",
   "execution_count": 72,
   "id": "a4c65888-cb43-4676-94f0-9e57809cd46b",
   "metadata": {},
   "outputs": [
    {
     "name": "stdout",
     "output_type": "stream",
     "text": [
      "47 states in a 50-hmm have occurred during face groom type 1.\n"
     ]
    },
    {
     "data": {
      "image/png": "[encoded data removed]",
      "text/plain": [
       "<Figure size 576x288 with 1 Axes>"
      ]
     },
     "metadata": {},
     "output_type": "display_data"
    }
   ],
   "source": [
    "behavior_to_hmm_state_plot(behav_id=15, \n",
    "                           names=names_mod, \n",
    "                           data=data, \n",
    "                           hmm_model=hmm_dir, \n",
    "                           behavior_predictions=smoothed_predictions_1h, \n",
    "                           framerate=60, \n",
    "                           hmm_samplerate=10,\n",
    "                           save_figures=True)"
   ]
  },
  {
   "cell_type": "code",
   "execution_count": null,
   "id": "268e28d7",
   "metadata": {},
   "outputs": [],
   "source": []
  }
 ],
 "metadata": {
  "kernelspec": {
   "display_name": "Python 3.8.0 ('hidenseek')",
   "language": "python",
   "name": "python3"
  },
  "language_info": {
   "codemirror_mode": {
    "name": "ipython",
    "version": 3
   },
   "file_extension": ".py",
   "mimetype": "text/x-python",
   "name": "python",
   "nbconvert_exporter": "python",
   "pygments_lexer": "ipython3",
   "version": "3.8.0"
  },
  "vscode": {
   "interpreter": {
    "hash": "4c0823e86baae0f96ace674699db2c6d9fd7927a1b7ac1ee15c642961b7774c0"
   }
  }
 },
 "nbformat": 4,
 "nbformat_minor": 5
}
