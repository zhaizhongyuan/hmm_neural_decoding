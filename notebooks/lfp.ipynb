{
 "cells": [
  {
   "cell_type": "code",
   "execution_count": 4,
   "metadata": {},
   "outputs": [],
   "source": [
    "from scipy.io import loadmat\n",
    "import mat73\n",
    "import matplotlib.pyplot as plt\n",
    "from hmmlearn import hmm\n",
    "import numpy as np\n",
    "from tqdm import notebook\n",
    "from scipy import stats\n",
    "from scipy.signal import hilbert\n",
    "from scipy.signal import butter, lfilter\n",
    "from scipy import signal\n",
    "from scipy.fft import fftshift\n",
    "from kneed import KneeLocator"
   ]
  },
  {
   "cell_type": "code",
   "execution_count": 5,
   "metadata": {},
   "outputs": [],
   "source": [
    "def bandpower(data, sf, band, method='welch', window_sec=None, relative=False):\n",
    "    \"\"\"Compute the average power of the signal x in a specific frequency band.\n",
    "\n",
    "    Requires MNE-Python >= 0.14.\n",
    "\n",
    "    Parameters\n",
    "    ----------\n",
    "    data : 1d-array\n",
    "      Input signal in the time-domain.\n",
    "    sf : float\n",
    "      Sampling frequency of the data.\n",
    "    band : list\n",
    "      Lower and upper frequencies of the band of interest.\n",
    "    method : string\n",
    "      Periodogram method: 'welch' or 'multitaper'\n",
    "    window_sec : float\n",
    "      Length of each window in seconds. Useful only if method == 'welch'.\n",
    "      If None, window_sec = (1 / min(band)) * 2.\n",
    "    relative : boolean\n",
    "      If True, return the relative power (= divided by the total power of the signal).\n",
    "      If False (default), return the absolute power.\n",
    "\n",
    "    Return\n",
    "    ------\n",
    "    bp : float\n",
    "      Absolute or relative band power.\n",
    "    \"\"\"\n",
    "    from scipy.signal import welch\n",
    "    from scipy.integrate import simps\n",
    "    from mne.time_frequency import psd_array_multitaper\n",
    "\n",
    "    band = np.asarray(band)\n",
    "    low, high = band\n",
    "\n",
    "    # Compute the modified periodogram (Welch)\n",
    "    if method == 'welch':\n",
    "        if window_sec is not None:\n",
    "            nperseg = window_sec * sf\n",
    "        else:\n",
    "            nperseg = (2 / low) * sf\n",
    "\n",
    "        freqs, psd = welch(data, sf, nperseg=nperseg)\n",
    "\n",
    "    elif method == 'multitaper':\n",
    "        psd, freqs = psd_array_multitaper(data, sf, adaptive=True,\n",
    "                                          normalization='full', \n",
    "                                          verbose=0)\n",
    "\n",
    "    # Frequency resolution\n",
    "    freq_res = freqs[1] - freqs[0]\n",
    "\n",
    "    # Find index of band in frequency vector\n",
    "    idx_band = np.logical_and(freqs >= low, freqs <= high)\n",
    "\n",
    "    # Integral approximation of the spectrum using parabola (Simpson's rule)\n",
    "    bp = simps(psd[idx_band], dx=freq_res)\n",
    "\n",
    "    if relative:\n",
    "        bp /= simps(psd, dx=freq_res)\n",
    "    return psd, freqs, idx_band, bp"
   ]
  },
  {
   "cell_type": "code",
   "execution_count": 6,
   "metadata": {},
   "outputs": [
    {
     "name": "stdout",
     "output_type": "stream",
     "text": [
      "sampling frequency is 1250 Hz\n",
      "full LFP lasted for 4.540507555555555 hours across 39 channels\n"
     ]
    }
   ],
   "source": [
    "filepath = '../processed_data/lfp.mat'\n",
    "ey_lfp = mat73.loadmat(filepath)\n",
    "fs = int(ey_lfp[\"lfp\"][\"samplerate\"][0])\n",
    "print(f'sampling frequency is {fs} Hz')\n",
    "full_lfp = np.vstack([ey_lfp['lfp']['data'][ch] for ch in range(len(ey_lfp['lfp']['data']))]).T\n",
    "print(f'full LFP lasted for {full_lfp.shape[0]/(fs*60*60)} hours across {full_lfp.shape[1]} channels')"
   ]
  },
  {
   "cell_type": "code",
   "execution_count": 7,
   "metadata": {},
   "outputs": [
    {
     "data": {
      "application/vnd.jupyter.widget-view+json": {
       "model_id": "abe95701fbb1440ab20a41e6ccae1b85",
       "version_major": 2,
       "version_minor": 0
      },
      "text/plain": [
       "  0%|          | 0/1 [00:00<?, ?it/s]"
      ]
     },
     "metadata": {},
     "output_type": "display_data"
    },
    {
     "data": {
      "application/vnd.jupyter.widget-view+json": {
       "model_id": "6d124cd2d5f44cdf9b0c970d4b0938a9",
       "version_major": 2,
       "version_minor": 0
      },
      "text/plain": [
       "  0%|          | 0/1 [00:00<?, ?it/s]"
      ]
     },
     "metadata": {},
     "output_type": "display_data"
    }
   ],
   "source": [
    "# define frequency ranges for band powers\n",
    "freq_bands = [[3, 8]]\n",
    "bands = ['theta']\n",
    "# initialize list\n",
    "band_pow = []\n",
    "\n",
    "# define window in seconds for frequency analysis\n",
    "window_dur = 1\n",
    "# define time total in hours for analysis\n",
    "duration_total = 1\n",
    "\n",
    "win_size = int(window_dur*fs) # sampling at 1250 Hz, 1s is 1250 samples\n",
    "\n",
    "# win_num = int(full_lfp.shape[0]/win_size) # how many seconds total\n",
    "nun_overlaps = 5\n",
    "win_num = int(duration_total*60*60/window_dur*nun_overlaps) #  hours \n",
    "\n",
    "# for each band\n",
    "for i, freq_band in enumerate(notebook.tqdm(freq_bands)):\n",
    "    instant_band_pow_all = []\n",
    "    # for each channel\n",
    "    for ch in notebook.tqdm(range(1)):\n",
    "        instant_band_pow_single = []\n",
    "        # for each analysis window\n",
    "        for win in range(win_num): \n",
    "            # window will be minimum nyquist 2/low_cut\n",
    "            psd, freqs, idx_band, bp = bandpower(full_lfp[int(win*win_size*.2):int(win*win_size*.2)+win_size, ch], # int(win*win_size*1/nun_overlaps), int(win*win_size*1/nun_overlaps)+win_size\n",
    "                                                 fs, \n",
    "                                                 freq_band, \n",
    "                                                #  win_sec=0.2,\n",
    "                                                #  'multitaper',\n",
    "                                                 relative=False,\n",
    "                                                )\n",
    "            # a list of instantaneous single band power single channel\n",
    "            # instant_band_pow_single.append(np.mean(psd[idx_band])) \n",
    "            instant_band_pow_single.append(bp/(freq_band[1]-freq_band[0])) \n",
    "        # a list of 39 channels, single band power\n",
    "        # instant_band_pow_all.append(np.hstack((instant_band_pow_single))) \n",
    "    # band_pow.append(instant_band_pow_all)"
   ]
  },
  {
   "cell_type": "code",
   "execution_count": 12,
   "metadata": {},
   "outputs": [
    {
     "data": {
      "text/plain": [
       "(18000,)"
      ]
     },
     "execution_count": 12,
     "metadata": {},
     "output_type": "execute_result"
    }
   ],
   "source": [
    "arr = np.hstack((instant_band_pow_single))\n",
    "arr.shape"
   ]
  },
  {
   "cell_type": "code",
   "execution_count": 11,
   "metadata": {},
   "outputs": [
    {
     "data": {
      "text/plain": [
       "(18000,)"
      ]
     },
     "execution_count": 11,
     "metadata": {},
     "output_type": "execute_result"
    }
   ],
   "source": [
    "arr = np.array(instant_band_pow_single)\n",
    "arr.shape"
   ]
  },
  {
   "cell_type": "code",
   "execution_count": null,
   "metadata": {},
   "outputs": [],
   "source": []
  }
 ],
 "metadata": {
  "kernelspec": {
   "display_name": "nsp",
   "language": "python",
   "name": "python3"
  },
  "language_info": {
   "codemirror_mode": {
    "name": "ipython",
    "version": 3
   },
   "file_extension": ".py",
   "mimetype": "text/x-python",
   "name": "python",
   "nbconvert_exporter": "python",
   "pygments_lexer": "ipython3",
   "version": "3.8.0 | packaged by conda-forge | (default, Nov 22 2019, 19:11:19) \n[Clang 9.0.0 (tags/RELEASE_900/final)]"
  },
  "orig_nbformat": 4,
  "vscode": {
   "interpreter": {
    "hash": "8b4524c2285503ee5371e1693aa576532508aa4de32b1b2b5267b2ef38aeeb4c"
   }
  }
 },
 "nbformat": 4,
 "nbformat_minor": 2
}
