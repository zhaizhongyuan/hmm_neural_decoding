{
 "cells": [
  {
   "cell_type": "code",
   "execution_count": 1,
   "metadata": {},
   "outputs": [],
   "source": [
    "import os\n",
    "import joblib\n",
    "import pickle\n",
    "\n",
    "import autograd.numpy as np\n",
    "import autograd.numpy.random as npr\n",
    "npr.seed(0)\n",
    "\n",
    "import matplotlib.pyplot as plt\n",
    "import numpy as np\n",
    "import scipy.stats as stats"
   ]
  },
  {
   "cell_type": "code",
   "execution_count": 2,
   "metadata": {},
   "outputs": [
    {
     "name": "stdout",
     "output_type": "stream",
     "text": [
      "Spike times are binned into shape for hmm: (36000, 46)\n"
     ]
    }
   ],
   "source": [
    "filename = '../processed_data/m1_fr0.1hz_30hz_0s_7200s_0.1s_bins_nooverlap.sav'\n",
    "\n",
    "with open(filename, 'rb') as file:\n",
    "    spike_times_all_neurons = joblib.load(file)\n",
    "\n",
    "# Convert to numpy array\n",
    "spike_times_all_neurons = np.array(spike_times_all_neurons)\n",
    "\n",
    "# Transpose into (71999, 90)\n",
    "spike_times_all_neurons = spike_times_all_neurons.T\n",
    "\n",
    "# Truncate two hour m1 recording to one hour l5 recording into (36000, 46), \n",
    "# 0th to 45th L5/6, 46th to 89th L2/3, 89th being the most shallow\n",
    "spike_times_l5_neurons_1h = spike_times_all_neurons[:36000, :46]\n",
    "\n",
    "# # (Number of 100-ms bins, Number of l2 neurons)\n",
    "# T_1h, D_m1 = spike_times_all_neurons_1h.shape\n",
    "\n",
    "# Z-score each neuron, i.e. firing rates of each neuron across time sum to 0\n",
    "spike_times_l5_neurons_1h_zscored = stats.zscore(spike_times_l5_neurons_1h) # Default axis is 0\n",
    "\n",
    "data = spike_times_l5_neurons_1h_zscored\n",
    "print(f'Spike times are binned into shape for hmm: {data.shape}')"
   ]
  },
  {
   "cell_type": "code",
   "execution_count": 3,
   "metadata": {},
   "outputs": [],
   "source": [
    "max_model_dir = \"../hmm_models/hmm_max/\""
   ]
  },
  {
   "cell_type": "code",
   "execution_count": 7,
   "metadata": {},
   "outputs": [],
   "source": [
    "hmms_num = 49"
   ]
  },
  {
   "cell_type": "code",
   "execution_count": 6,
   "metadata": {},
   "outputs": [],
   "source": [
    "from sklearn.ensemble import RandomForestClassifier\n",
    "from sklearn.model_selection import train_test_split\n",
    "from sklearn.metrics import f1_score\n",
    "from sklearn.metrics import confusion_matrix\n",
    "\n",
    "def rf_f1_score(hmm_model, data, limit_count=100, verbose=False):\n",
    "    Z2 = hmm_model.predict(data)\n",
    "    X = data.copy()\n",
    "    y = Z2.copy()\n",
    "    X_train, X_test, y_train, y_test = train_test_split(X, y, test_size=0.2, random_state=42)\n",
    "    if verbose:\n",
    "        print(X.shape, y.shape, [len(np.where(y == s)[0]) for s in np.unique(Z2)])\n",
    "    np.random.seed(2022)\n",
    "    y_subsampled = []\n",
    "    X_subsampled = []\n",
    "    for s in np.unique(Z2):\n",
    "        idx_s = np.where(y==s)[0]\n",
    "        try:\n",
    "            sampled_idx_s = np.random.choice(len(idx_s), limit_count, replace=False)\n",
    "        except:\n",
    "            sampled_idx_s = np.random.choice(len(idx_s), len(idx_s), replace=False)\n",
    "        y_subsampled.append(y[idx_s[sampled_idx_s]])\n",
    "        X_subsampled.append(X[idx_s[sampled_idx_s], :])\n",
    "    if verbose:\n",
    "        print(np.hstack(y_subsampled).shape, np.vstack(X_subsampled).shape)\n",
    "    X_train, X_test, y_train, y_test = train_test_split(np.vstack(X_subsampled), np.hstack(y_subsampled), \n",
    "                                                        test_size=0.2, random_state=42)\n",
    "    clf = RandomForestClassifier(n_estimators=200, random_state=42, class_weight='balanced_subsample', n_jobs=-1)\n",
    "    clf.fit(X_train, y_train)\n",
    "    predict = clf.predict(X_test)\n",
    "\n",
    "    # print(50*'=')\n",
    "    # print(f'average: {f1_score(y_test, predict, average=\"macro\")}')\n",
    "    # print(50*'-')\n",
    "    # print(f'indiv:{f1_score(y_test, predict, average=None)}')\n",
    "    # print(50*'=')\n",
    "\n",
    "    return f1_score(y_test, predict, average=\"macro\")"
   ]
  },
  {
   "cell_type": "code",
   "execution_count": 16,
   "metadata": {},
   "outputs": [],
   "source": [
    "percentage_hmm_f1_score_above_chance = []\n",
    "for i in range(hmms_num):\n",
    "    # Load model\n",
    "    K = i + 1 # Offset indexing by 1\n",
    "    hmm_mrg = pickle.load(open(os.path.join(max_model_dir, f\"1h_l5_possion_merged_{K}_latents\" + \".hmm\"), \"rb\"))\n",
    "    # Compute the percentage by which the f1 score out of random forests is higher than the corresponding chance\n",
    "    chance = 1.0/K\n",
    "    percentage_hmm_f1_score_above_chance.append((rf_f1_score(hmm_mrg, data, limit_count=1360, verbose=False) - chance)*K*100)"
   ]
  },
  {
   "cell_type": "code",
   "execution_count": 25,
   "metadata": {},
   "outputs": [
    {
     "data": {
      "text/plain": [
       "Text(0.5, 1.0, 'Percentage by which f1 score is higher than chance')"
      ]
     },
     "execution_count": 25,
     "metadata": {},
     "output_type": "execute_result"
    },
    {
     "data": {
      "image/png": "[encoded data removed]",
      "text/plain": [
       "<Figure size 432x288 with 1 Axes>"
      ]
     },
     "metadata": {
      "needs_background": "light"
     },
     "output_type": "display_data"
    }
   ],
   "source": [
    "plt.plot([x+1 for x in range(K)], percentage_hmm_f1_score_above_chance)\n",
    "plt.xlabel('Number of hidden states')\n",
    "plt.ylabel('%')\n",
    "plt.title('Percentage by which f1 score is higher than chance')"
   ]
  },
  {
   "cell_type": "markdown",
   "metadata": {},
   "source": [
    "The elbow point occurs at (26, 1893.2918317844947)"
   ]
  },
  {
   "cell_type": "code",
   "execution_count": 27,
   "metadata": {},
   "outputs": [],
   "source": [
    "hmm_f1_score_ratio_chance = []\n",
    "for i in range(hmms_num):\n",
    "    # Load model\n",
    "    K = i + 1 # Offset indexing by 1\n",
    "    hmm_mrg = pickle.load(open(os.path.join(max_model_dir, f\"1h_l5_possion_merged_{K}_latents\" + \".hmm\"), \"rb\"))\n",
    "    # Compute the ratio between the f1 score out of random forests and the corresponding chance\n",
    "    hmm_f1_score_ratio_chance.append(rf_f1_score(hmm_mrg, data, limit_count=1360, verbose=False)*K)"
   ]
  },
  {
   "cell_type": "code",
   "execution_count": 31,
   "metadata": {},
   "outputs": [
    {
     "data": {
      "text/plain": [
       "Text(0.5, 1.0, 'f1 score ratio chance')"
      ]
     },
     "execution_count": 31,
     "metadata": {},
     "output_type": "execute_result"
    },
    {
     "data": {
      "image/png": "[encoded data removed]",
      "text/plain": [
       "<Figure size 432x288 with 1 Axes>"
      ]
     },
     "metadata": {
      "needs_background": "light"
     },
     "output_type": "display_data"
    }
   ],
   "source": [
    "plt.plot([x+1 for x in range(K)], hmm_f1_score_ratio_chance)\n",
    "plt.xlabel('Number of hidden states')\n",
    "plt.ylabel('ratio')\n",
    "plt.title('f1 score ratio chance')"
   ]
  },
  {
   "cell_type": "markdown",
   "metadata": {},
   "source": [
    "The elbow point occurs at (26, 19.932918317844948)"
   ]
  }
 ],
 "metadata": {
  "kernelspec": {
   "display_name": "Python 3.8.0 ('nsp')",
   "language": "python",
   "name": "python3"
  },
  "language_info": {
   "codemirror_mode": {
    "name": "ipython",
    "version": 3
   },
   "file_extension": ".py",
   "mimetype": "text/x-python",
   "name": "python",
   "nbconvert_exporter": "python",
   "pygments_lexer": "ipython3",
   "version": "3.8.0 | packaged by conda-forge | (default, Nov 22 2019, 19:11:19) \n[Clang 9.0.0 (tags/RELEASE_900/final)]"
  },
  "orig_nbformat": 4,
  "vscode": {
   "interpreter": {
    "hash": "8b4524c2285503ee5371e1693aa576532508aa4de32b1b2b5267b2ef38aeeb4c"
   }
  }
 },
 "nbformat": 4,
 "nbformat_minor": 2
}
