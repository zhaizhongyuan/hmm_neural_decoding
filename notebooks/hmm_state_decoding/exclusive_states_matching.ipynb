{
 "cells": [
  {
   "attachments": {},
   "cell_type": "markdown",
   "metadata": {},
   "source": [
    "## This notebook finds the hmm states, each of which matches to some behavior exclusively"
   ]
  },
  {
   "cell_type": "code",
   "execution_count": 1,
   "metadata": {},
   "outputs": [],
   "source": [
    "import os\n",
    "import sys\n",
    "sys.path.append('../libraries/') # Append the path within which the user-defined class is in\n",
    "from data_loader import data_loader\n",
    "from behavior_loader import bsoid_loader\n",
    "import joblib\n",
    "import pickle\n",
    "import time\n",
    "\n",
    "%matplotlib inline\n",
    "import matplotlib.pyplot as plt\n",
    "import numpy as np\n",
    "import pandas as pd\n",
    "from hmmlearn import hmm"
   ]
  },
  {
   "attachments": {},
   "cell_type": "markdown",
   "metadata": {},
   "source": [
    "## functions to load neural data"
   ]
  },
  {
   "cell_type": "code",
   "execution_count": 2,
   "metadata": {},
   "outputs": [
    {
     "name": "stdout",
     "output_type": "stream",
     "text": [
      "Spike times are binned into shape for hmm: (36000, 46)\n"
     ]
    }
   ],
   "source": [
    "data_dir = r'../processed_data'\n",
    "file_name = r'm1_fr0.1hz_30hz_0s_7200s_0.1s_bins_nooverlap.sav'\n",
    "d_l = data_loader(data_dir, file_name)\n",
    "data = d_l.load_data()"
   ]
  },
  {
   "attachments": {},
   "cell_type": "markdown",
   "metadata": {},
   "source": [
    "## functions to load behavior"
   ]
  },
  {
   "cell_type": "code",
   "execution_count": 3,
   "metadata": {},
   "outputs": [
    {
     "name": "stdout",
     "output_type": "stream",
     "text": [
      "mouse stayed in nest for 0.28108749470484795% of time\n",
      "File #0 (a 6 body parts by 984391 frames) has 30 classes\n"
     ]
    }
   ],
   "source": [
    "file_name = r'ag25290_day2_iter13'\n",
    "# Load behaviors\n",
    "behavior_loader = bsoid_loader(data_dir, file_name)\n",
    "f_index, filtered_data, smoothed_predictions = behavior_loader.main()"
   ]
  },
  {
   "cell_type": "code",
   "execution_count": 4,
   "metadata": {},
   "outputs": [],
   "source": [
    "# Correct prediction start\n",
    "framerate = 60\n",
    "delay = 6.8503\n",
    "behavior_start = int(delay * framerate)  # start of behavior\n",
    "smoothed_predictions_1h = smoothed_predictions[behavior_start:(behavior_start+3600*60)]"
   ]
  },
  {
   "cell_type": "code",
   "execution_count": 5,
   "metadata": {},
   "outputs": [],
   "source": [
    "hmm_rate = 10\n",
    "behaviors_10fps = smoothed_predictions_1h[0::int(framerate/hmm_rate)]"
   ]
  },
  {
   "attachments": {},
   "cell_type": "markdown",
   "metadata": {},
   "source": [
    "## load hmm and search for states that are exclusive to some behavior"
   ]
  },
  {
   "cell_type": "code",
   "execution_count": 18,
   "metadata": {},
   "outputs": [],
   "source": [
    "model_dir = \"../hmm_models/direct\""
   ]
  },
  {
   "cell_type": "code",
   "execution_count": 19,
   "metadata": {},
   "outputs": [],
   "source": [
    "names_mod = ['insignificant', 'insignificant', 'insignificant', 'insignificant', 'rear',\n",
    "         'insignificant', 'insignificant', 'investigate type 1', 'investigate type 2', 'contra-itch',\n",
    "         'investigate type 3', 'insignificant', 'insignificant', 'insignificant', 'contra-body groom',\n",
    "         'face groom type 1', 'dive/scrunch', 'head groom', 'ipsi-orient', 'insignificant',\n",
    "         'face groom type 2', 'ipsi-body groom', 'ipsi-itch type 1', 'insignificant', 'insignificant', \n",
    "         'paw groom', 'locomotion', 'insignificant', 'contra-orient']"
   ]
  },
  {
   "cell_type": "code",
   "execution_count": 20,
   "metadata": {},
   "outputs": [],
   "source": [
    "def ex_state_to_behavior(K):\n",
    "    hmm_mrg = pickle.load(open(os.path.join(model_dir, f'1h_l5_possion_direct_{K}_latents.hmm'), 'rb'))\n",
    "    hmm_states = hmm_mrg.predict(data)\n",
    "    uiq_states = np.unique(hmm_states)\n",
    "    for state in uiq_states:\n",
    "        state_idcs = np.where(hmm_states == state)[0]\n",
    "        behaviors = np.unique(behaviors_10fps[state_idcs])\n",
    "        if len(behaviors) == 1:\n",
    "            print(f'An exlusive state {state} of {len(state_idcs)} instances to behavior {names_mod[behaviors[0]]} found in 1h_l5_possion_merged_{K}_latents.hmm.')\n"
   ]
  },
  {
   "cell_type": "code",
   "execution_count": 21,
   "metadata": {},
   "outputs": [],
   "source": [
    "ex_state_to_behavior(K=400)"
   ]
  },
  {
   "cell_type": "code",
   "execution_count": 22,
   "metadata": {},
   "outputs": [
    {
     "name": "stdout",
     "output_type": "stream",
     "text": [
      "An exlusive state 450 of 1 instances to behavior face groom type 1 found in 1h_l5_possion_merged_500_latents.hmm.\n",
      "An exlusive state 461 of 4 instances to behavior contra-itch found in 1h_l5_possion_merged_500_latents.hmm.\n"
     ]
    }
   ],
   "source": [
    "ex_state_to_behavior(K=500)"
   ]
  }
 ],
 "metadata": {
  "kernelspec": {
   "display_name": "nsp",
   "language": "python",
   "name": "python3"
  },
  "language_info": {
   "codemirror_mode": {
    "name": "ipython",
    "version": 3
   },
   "file_extension": ".py",
   "mimetype": "text/x-python",
   "name": "python",
   "nbconvert_exporter": "python",
   "pygments_lexer": "ipython3",
   "version": "3.8.0"
  },
  "orig_nbformat": 4,
  "vscode": {
   "interpreter": {
    "hash": "8b4524c2285503ee5371e1693aa576532508aa4de32b1b2b5267b2ef38aeeb4c"
   }
  }
 },
 "nbformat": 4,
 "nbformat_minor": 2
}
