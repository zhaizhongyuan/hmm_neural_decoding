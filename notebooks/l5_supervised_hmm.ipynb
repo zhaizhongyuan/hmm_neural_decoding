{
 "cells": [
  {
   "cell_type": "markdown",
   "metadata": {},
   "source": [
    "# Supervised HMM "
   ]
  },
  {
   "cell_type": "code",
   "execution_count": 35,
   "metadata": {},
   "outputs": [],
   "source": [
    "import os\n",
    "import sys\n",
    "sys.path.append('../libraries/')\n",
    "from data_loader import data_loader\n",
    "from behavior_loader import bsoid_loader\n",
    "\n",
    "import numpy as np\n",
    "from sklearn.model_selection import train_test_split"
   ]
  },
  {
   "cell_type": "code",
   "execution_count": 36,
   "metadata": {},
   "outputs": [],
   "source": [
    "data_dir = '../processed_data'"
   ]
  },
  {
   "cell_type": "markdown",
   "metadata": {},
   "source": [
    "## Load neural data"
   ]
  },
  {
   "cell_type": "code",
   "execution_count": 37,
   "metadata": {},
   "outputs": [
    {
     "name": "stdout",
     "output_type": "stream",
     "text": [
      "Spike times are binned into shape for hmm: (36000, 46)\n"
     ]
    }
   ],
   "source": [
    "filename = 'm1_fr0.1hz_30hz_0s_7200s_0.1s_bins_nooverlap.sav'\n",
    "dl = data_loader(data_dir, filename)\n",
    "data = dl.load_data()\n",
    "_, D = data.shape\n"
   ]
  },
  {
   "cell_type": "markdown",
   "metadata": {},
   "source": [
    "## Load behavior targets"
   ]
  },
  {
   "cell_type": "code",
   "execution_count": 39,
   "metadata": {},
   "outputs": [
    {
     "name": "stdout",
     "output_type": "stream",
     "text": [
      "mouse stayed in nest for 0.28108749470484795% of time\n",
      "File #0 (a 6 body parts by 984391 frames) has 30 classes\n"
     ]
    }
   ],
   "source": [
    "filename = 'ag25290_day2_iter13'\n",
    "bl = bsoid_loader(data_dir, filename)\n",
    "_, _, smoothed_predictions = bl.main()\n",
    "frame_rate = 60\n",
    "delay = 6.8503\n",
    "behavior_start = int(delay * frame_rate)  # start of behavior\n",
    "smoothed_predictions_1h = smoothed_predictions[behavior_start:(behavior_start+3600*frame_rate)]"
   ]
  },
  {
   "cell_type": "code",
   "execution_count": null,
   "metadata": {},
   "outputs": [],
   "source": []
  },
  {
   "cell_type": "code",
   "execution_count": 41,
   "metadata": {},
   "outputs": [
    {
     "name": "stdout",
     "output_type": "stream",
     "text": [
      "[ 2783  3236   388    29  1027   750   654  1772 13852 53834 18433  5738\n",
      "    62   103   453  3654  8784  2133  6194  9370   233  1972  7292  2285\n",
      "  6491  4761  5077 47599   773  6268]\n"
     ]
    }
   ],
   "source": [
    "states, state_cnts = np.unique(smoothed_predictions_1h, return_counts=True)\n",
    "print(state_cnts)"
   ]
  },
  {
   "cell_type": "code",
   "execution_count": 5,
   "metadata": {},
   "outputs": [],
   "source": [
    "data_rate = 10 # samples per minute\n",
    "# For now simply use the exact time stamp for data and targets to match\n",
    "targets = smoothed_predictions_1h[::int(frame_rate/data_rate)]\n",
    "targets = targets + 1\n",
    "names_rearrange = ['torso groom', 'investigate type 0', 'unsure', 'wall rear type 1', 'rear',\n",
    "         'unsure', 'wall rear type 2', 'investigate type 1', 'investigate type 2', 'contra-itch',\n",
    "         'investigate type 3', 'sleep/scrunch type 1', 'sleep/scrunch type 2', 'wall rear type 3', 'contra-body groom',\n",
    "         'face groom type 1', 'dive/scrunch', 'head groom', 'ipsi-orient', 'ipsi-investigate',\n",
    "         'face groom type 2', 'ipsi-body groom', 'ipsi-itch type 1', 'ipsi-itch type 2', 'face groom type 3', \n",
    "         'paw groom', 'locomotion', 'contra-forepaw orient', 'contra-orient']\n",
    "# Number of targets, i.e., number of hmm states to set\n",
    "K = len(np.unique(targets))"
   ]
  },
  {
   "cell_type": "code",
   "execution_count": null,
   "metadata": {},
   "outputs": [],
   "source": []
  },
  {
   "cell_type": "markdown",
   "metadata": {},
   "source": [
    "## hmm class"
   ]
  },
  {
   "cell_type": "code",
   "execution_count": 33,
   "metadata": {},
   "outputs": [
    {
     "name": "stdout",
     "output_type": "stream",
     "text": [
      "1185.4725971030498\n"
     ]
    }
   ],
   "source": [
    "np.random.seed(10)\n",
    "a = np.random.rand(20, 4) * 100\n",
    "# print(a)\n",
    "a_mean = np.mean(a, axis=0)\n",
    "# print(a_mean)\n",
    "a_cov = (a - a_mean).T @ (a - a_mean) / (20)\n",
    "# eig_val, eig_vec = np.linalg.eig(np.cov(a.T, bias=False))\n",
    "# print(np.max(eig_val))\n",
    "eig_val, eig_vec = np.linalg.eig(a_cov)\n",
    "print(np.max(eig_val))\n",
    "# print(eig_vec)\n"
   ]
  },
  {
   "cell_type": "code",
   "execution_count": null,
   "metadata": {},
   "outputs": [],
   "source": [
    "class hmm:\n",
    "    def __init__(self, K: int, D: int) -> None:\n",
    "        self.K = K\n",
    "        self.D = D\n",
    "        # self.initial_state\n",
    "        self.transitions = np.zeros((self.K, self.K))\n",
    "        self.emissions_mean = np.zeros((self.K, self.D))\n",
    "        self.emissions_cov = np.zeros((self.K, self.D, self.D))\n",
    "    def fit(self, data: np.array, targets: np.array) -> None:\n",
    "        unique_targets = np.unique(targets)\n",
    "        for i, target in enumerate(unique_targets):\n",
    "            target_indcs = np.where(targets == target)[0]\n",
    "            target_data = data[target_indcs, :]\n",
    "            target_data_mean = np.mean(target_data, axis=0)\n",
    "            self.emissions_mean[i, :] = target_data_mean\n",
    "            self.emissions_cov[i, :, :] = np.cov((target_data - target_data_mean).T, bias=True) #(target_data - target_data_mean).T @ (target_data - target_data_mean) / len(target_indcs)\n",
    "            trans_target_indcs = target_indcs + 1\n",
    "            if trans_target_indcs[-1] == len(targets):\n",
    "                trans_target_indcs = trans_target_indcs[:-1]\n",
    "            trans_targets = targets[trans_target_indcs]\n",
    "            for j, target in enumerate(unique_targets):\n",
    "                self.transitions[i][j] = len(np.where(trans_targets == target)[0]) / len(trans_targets)\n",
    "    def predict(self, data: np.array) -> np.array:\n",
    "        targets_list = []\n",
    "        \n",
    "        pass\n",
    "    def f1_score(self, data, targets):\n",
    "\n",
    "        pass"
   ]
  }
 ],
 "metadata": {
  "kernelspec": {
   "display_name": "Python 3",
   "language": "python",
   "name": "python3"
  },
  "language_info": {
   "codemirror_mode": {
    "name": "ipython",
    "version": 3
   },
   "file_extension": ".py",
   "mimetype": "text/x-python",
   "name": "python",
   "nbconvert_exporter": "python",
   "pygments_lexer": "ipython3",
   "version": "3.10.0 (v3.10.0:b494f5935c, Oct  4 2021, 14:59:19) [Clang 12.0.5 (clang-1205.0.22.11)]"
  },
  "orig_nbformat": 4,
  "vscode": {
   "interpreter": {
    "hash": "aee8b7b246df8f9039afb4144a1f6fd8d2ca17a180786b69acc140d282b71a49"
   }
  }
 },
 "nbformat": 4,
 "nbformat_minor": 2
}
