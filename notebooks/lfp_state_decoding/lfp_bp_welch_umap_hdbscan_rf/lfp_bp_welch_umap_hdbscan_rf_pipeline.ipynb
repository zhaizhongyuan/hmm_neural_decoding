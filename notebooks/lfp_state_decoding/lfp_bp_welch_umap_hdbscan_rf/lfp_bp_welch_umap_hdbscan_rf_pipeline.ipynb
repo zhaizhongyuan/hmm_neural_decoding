{
 "cells": [
  {
   "cell_type": "code",
   "execution_count": 70,
   "metadata": {},
   "outputs": [],
   "source": [
    "import pickle\n",
    "import os\n",
    "import sys\n",
    "from tqdm.notebook import tqdm\n",
    "\n",
    "sys.path.append('../../../libraries/') # Append the path within which the user-defined class is in\n",
    "from data_loader import data_loader\n",
    "from behavior_loader import bsoid_loader\n",
    "\n",
    "import numpy as np\n",
    "import pandas as pd\n",
    "import matplotlib.pyplot as plt\n",
    "%matplotlib inline\n",
    "import seaborn as sns\n",
    "import umap\n",
    "import hdbscan\n",
    "\n",
    "from scipy import stats\n",
    "from sklearn.ensemble import RandomForestClassifier\n",
    "from sklearn.model_selection import train_test_split\n",
    "from sklearn.metrics import f1_score\n",
    "from sklearn.metrics import confusion_matrix\n",
    "from sklearn.decomposition import PCA"
   ]
  },
  {
   "cell_type": "code",
   "execution_count": 2,
   "metadata": {},
   "outputs": [],
   "source": [
    "data_dir = r'../../../processed_data'"
   ]
  },
  {
   "attachments": {},
   "cell_type": "markdown",
   "metadata": {},
   "source": [
    "### Load 4-hour z-scored bandpower features of lpf using Welch method"
   ]
  },
  {
   "cell_type": "code",
   "execution_count": 3,
   "metadata": {},
   "outputs": [
    {
     "name": "stdout",
     "output_type": "stream",
     "text": [
      "Z-scored bandpower features are binned into shape: (48, 14400)\n"
     ]
    }
   ],
   "source": [
    "zscore_feats = pickle.load(open(os.path.join(data_dir, 'welch_bp/welch_nonoverlap_zscore_bp_0.0_s_offset.np'), 'rb'))\n",
    "print(f'Z-scored bandpower features are binned into shape: {zscore_feats.shape}')"
   ]
  },
  {
   "attachments": {},
   "cell_type": "markdown",
   "metadata": {},
   "source": [
    "### Load best umap-hdbscan model that seperates lpf most clearly and predict on lpf features"
   ]
  },
  {
   "cell_type": "code",
   "execution_count": 4,
   "metadata": {},
   "outputs": [],
   "source": [
    "def rf_f1_score(X, y, test_size=0.2, average='macro'):\n",
    "    sample_size = np.ceil(1 / test_size) * 4\n",
    "    targets, target_cnts = np.unique(y, return_counts=True)\n",
    "    X_train_arr = [] \n",
    "    X_test_arr = [] \n",
    "    y_train_arr = [] \n",
    "    y_test_arr = []\n",
    "    for i, target_cnt in enumerate(target_cnts):\n",
    "        if target_cnt >= sample_size:\n",
    "            target_idcs = np.where(y == targets[i])[0]\n",
    "            X_train_target, X_test_target, y_train_target, y_test_target = train_test_split(X[target_idcs, :], y[target_idcs], test_size=test_size, random_state=42)\n",
    "            X_train_arr.append(X_train_target)\n",
    "            X_test_arr.append(X_test_target)\n",
    "            y_train_arr.append(y_train_target)\n",
    "            y_test_arr.append(y_test_target)\n",
    "    X_train = np.vstack(X_train_arr)\n",
    "    X_test = np.vstack(X_test_arr)\n",
    "    y_train = np.hstack(y_train_arr)\n",
    "    y_test = np.hstack(y_test_arr)\n",
    "    clf = RandomForestClassifier(n_estimators=200, random_state=42, class_weight='balanced_subsample', n_jobs=-1)\n",
    "    clf.fit(X_train, y_train)\n",
    "    predict = clf.predict(X_test)\n",
    "\n",
    "    return f1_score(y_test, predict, average=average)"
   ]
  },
  {
   "cell_type": "code",
   "execution_count": 5,
   "metadata": {},
   "outputs": [],
   "source": [
    "def umap_hdbscan_rf_segment(data, n_components, n_neighbors, min_dist, random_state_umap, min_cluster_size, min_samples):\n",
    "    reducer = umap.UMAP(n_components=n_components, n_neighbors=n_neighbors, min_dist=min_dist, random_state=random_state_umap)\n",
    "    embedding = reducer.fit_transform(data)\n",
    "    clusterer_umap = hdbscan.HDBSCAN(min_cluster_size=min_cluster_size, min_samples=min_samples, prediction_data=True).fit(embedding)\n",
    "    X = data[clusterer_umap.labels_ >= 0, :]\n",
    "    y = clusterer_umap.labels_[clusterer_umap.labels_ >= 0]\n",
    "    clf = RandomForestClassifier(n_estimators=200, random_state=42, class_weight='balanced_subsample', n_jobs=-1)\n",
    "    clf.fit(X, y)\n",
    "    y_all = clf.predict(data)\n",
    "\n",
    "    return y_all"
   ]
  },
  {
   "cell_type": "code",
   "execution_count": 6,
   "metadata": {
    "pycharm": {
     "is_executing": true
    }
   },
   "outputs": [],
   "source": [
    "lfp_states = umap_hdbscan_rf_segment(data=zscore_feats.T,\n",
    "                                     n_components=5,\n",
    "                                     n_neighbors=60,\n",
    "                                     min_dist=0,\n",
    "                                     random_state_umap=29,\n",
    "                                     min_cluster_size=150,\n",
    "                                     min_samples=20)"
   ]
  },
  {
   "cell_type": "code",
   "execution_count": 7,
   "metadata": {},
   "outputs": [
    {
     "data": {
      "text/plain": [
       "(array([0, 1, 2, 3, 4, 5, 6, 7, 8, 9]),\n",
       " array([ 565, 1249, 4505, 1627,  601,  924,  882, 1353, 1674, 1020]))"
      ]
     },
     "execution_count": 7,
     "metadata": {},
     "output_type": "execute_result"
    }
   ],
   "source": [
    "np.unique(lfp_states, return_counts=True)"
   ]
  },
  {
   "cell_type": "code",
   "execution_count": 8,
   "metadata": {},
   "outputs": [
    {
     "data": {
      "text/plain": [
       "(14400,)"
      ]
     },
     "execution_count": 8,
     "metadata": {},
     "output_type": "execute_result"
    }
   ],
   "source": [
    "lfp_states.shape"
   ]
  },
  {
   "cell_type": "code",
   "execution_count": null,
   "metadata": {},
   "outputs": [],
   "source": [
    "rows = len(np.unique(lfp_states))\n",
    "cols = 1\n",
    "fig, ax = plt.subplots(rows, 1, figsize=(16, 11), sharex=True, sharey=True)\n",
    "for i, lfp_state in enumerate(np.unique(lfp_states)):   \n",
    "    idx_ = np.where(lfp_states == lfp_state)[0]\n",
    "    ax[i].imshow(zscore_feats[:, idx_[:500]], vmin=-3, vmax=3, cmap='RdBu_r')\n",
    "fig.suptitle('LFP States', fontweight='bold', y=0.91, fontsize=15)\n",
    "fig.text(0.5, 0.08, 'Sample band power instances in 1s bins', ha='center', va='center', fontsize=12)\n",
    "fig.text(0.25, 0.5, 'Power bands (Beta Theta Low-Gamma High-Gamma)', ha='center', va='center', rotation='vertical', fontsize=12)\n",
    "plt.show()"
   ]
  },
  {
   "cell_type": "code",
   "execution_count": null,
   "metadata": {},
   "outputs": [],
   "source": [
    "fig.savefig('lfp_states.png', dpi = 600)"
   ]
  },
  {
   "cell_type": "markdown",
   "metadata": {},
   "source": [
    "## Naive repetitive windows"
   ]
  },
  {
   "cell_type": "code",
   "execution_count": 9,
   "metadata": {},
   "outputs": [],
   "source": [
    "predict_naive = np.repeat(lfp_states, 10)"
   ]
  },
  {
   "cell_type": "code",
   "execution_count": 10,
   "metadata": {},
   "outputs": [
    {
     "data": {
      "text/plain": [
       "(144000,)"
      ]
     },
     "execution_count": 10,
     "metadata": {},
     "output_type": "execute_result"
    }
   ],
   "source": [
    "predict_naive.shape"
   ]
  },
  {
   "cell_type": "markdown",
   "metadata": {},
   "source": [
    "### Load 4-hour l5 spikes"
   ]
  },
  {
   "cell_type": "code",
   "execution_count": 11,
   "metadata": {},
   "outputs": [
    {
     "name": "stdout",
     "output_type": "stream",
     "text": [
      "Spike times are binned into shape: (143999, 363)\n"
     ]
    }
   ],
   "source": [
    "with open(os.path.join(data_dir, 'all_fr0.1hz_30hz_0s_14400s_0.1s_bins_nooverlap.npy'), 'rb') as file:\n",
    "    spike_times_all_neurons = np.load(file)\n",
    "\n",
    "# Convert to numpy array\n",
    "spike_times_all_neurons = np.array(spike_times_all_neurons)\n",
    "\n",
    "# # (Number of 100-ms bins, Number of l2 neurons)\n",
    "# T_1h, D_m1 = spike_times_all_neurons_1h.shape\n",
    "\n",
    "# Z-score each neuron, i.e. firing rates of each neuron across time sum to 0\n",
    "spike_times_all_neurons_4h_zscored = stats.zscore(spike_times_all_neurons) # Default axis is 0\n",
    "\n",
    "spikes = spike_times_all_neurons_4h_zscored\n",
    "print(f'Spike times are binned into shape: {spikes.shape}')"
   ]
  },
  {
   "cell_type": "code",
   "execution_count": 12,
   "metadata": {},
   "outputs": [
    {
     "data": {
      "text/plain": [
       "(144000, 363)"
      ]
     },
     "execution_count": 12,
     "metadata": {},
     "output_type": "execute_result"
    }
   ],
   "source": [
    "spikes = np.vstack([spikes, np.random.rand(1, 363)])\n",
    "spikes.shape"
   ]
  },
  {
   "attachments": {},
   "cell_type": "markdown",
   "metadata": {},
   "source": [
    "## PCA on spikes colored by lfp states"
   ]
  },
  {
   "cell_type": "code",
   "execution_count": null,
   "metadata": {},
   "outputs": [],
   "source": [
    "pca_all = PCA(n_components=200)\n",
    "pca_all.fit(spikes)"
   ]
  },
  {
   "cell_type": "code",
   "execution_count": null,
   "metadata": {},
   "outputs": [],
   "source": [
    "spikes_pca = pca_all.transform(spikes)"
   ]
  },
  {
   "cell_type": "code",
   "execution_count": null,
   "metadata": {},
   "outputs": [],
   "source": [
    "np.sum(pca_all.explained_variance_ratio_)"
   ]
  },
  {
   "cell_type": "code",
   "execution_count": null,
   "metadata": {},
   "outputs": [],
   "source": [
    "spikes_pca.shape"
   ]
  },
  {
   "cell_type": "code",
   "execution_count": null,
   "metadata": {},
   "outputs": [],
   "source": [
    "for i, lfp_state in enumerate(np.unique(predict_naive)): \n",
    "    idx_ = np.where(predict_naive == lfp_state)[0]\n",
    "    lfp_state_spikes_pca = spikes_pca[idx_, :]\n",
    "    sns.scatterplot(lfp_state_spikes_pca[:, 0], lfp_state_spikes_pca[:, 1])\n",
    "\n",
    "# sns.set_style('whitegrid')\n",
    "plt.figure(figsize=(32, 22))\n",
    "# sns.scatterplot(x='NPHI', y='DPHI', hue='LITH', data=df)"
   ]
  },
  {
   "cell_type": "code",
   "execution_count": null,
   "metadata": {},
   "outputs": [],
   "source": [
    "rows = len(np.unique(predict_naive))\n",
    "cols = 1\n",
    "fig, ax = plt.subplots(rows, 1, figsize=(16, 11), sharex=True, sharey=True)\n",
    "for i, lfp_state in enumerate(np.unique(predict_naive)):   \n",
    "    idx_ = np.where(predict_naive == lfp_state)[0]\n",
    "    spike_trains = spike_times_all_neurons[idx_, :].T\n",
    "    channel_num, _ = spike_trains.shape\n",
    "    for channel in range(channel_num):\n",
    "        spike_times = [i for i, x in enumerate(spike_trains[channel]) if x > 0]\n",
    "        ax[i].vlines(spike_times[:50], channel - 0.5, channel + 0.5, colors='k', linewidth=1.1)\n",
    "        ax[i].set_xlim(0, 50)\n",
    "fig.suptitle('Spike Trains in LFP States', fontweight='bold', y=0.91, fontsize=15)\n",
    "fig.text(0.5, 0.08, 'Sample spike trains in 100ms bins', ha='center', va='center', fontsize=12)\n",
    "fig.text(0.1, 0.5, 'Striatum to M1 Channels', ha='center', va='center', rotation='vertical', fontsize=12)\n",
    "plt.show()"
   ]
  },
  {
   "cell_type": "code",
   "execution_count": null,
   "metadata": {},
   "outputs": [],
   "source": [
    "rows = len(np.unique(predict_naive))\n",
    "cols = 1\n",
    "fig, ax = plt.subplots(rows, 1, figsize=(16, 11), sharex=True, sharey=True)\n",
    "for i, lfp_state in enumerate(np.unique(predict_naive)):   \n",
    "    idx_ = np.where(predict_naive == lfp_state)[0]\n",
    "    spike_trains = spike_times_all_neurons[idx_, :].T\n",
    "    channel_num, _ = spike_trains.shape\n",
    "    print(spike_trains.shape)\n",
    "    ax[i].imshow(spike_trains[:, :5000], vmin=0, vmax=2)"
   ]
  },
  {
   "attachments": {},
   "cell_type": "markdown",
   "metadata": {},
   "source": [
    "### show spike variability mean an std"
   ]
  },
  {
   "attachments": {},
   "cell_type": "markdown",
   "metadata": {},
   "source": [
    "### Load 4-hour behaviors"
   ]
  },
  {
   "cell_type": "code",
   "execution_count": 13,
   "metadata": {},
   "outputs": [
    {
     "name": "stdout",
     "output_type": "stream",
     "text": [
      "Mouse stayed in nest for 0.28108749470484795% of time\n",
      "Smooth window: 6\n",
      "File #0 (a 6 body parts by 984391 frames) has 30 classes\n"
     ]
    },
    {
     "data": {
      "text/plain": [
       "(144000,)"
      ]
     },
     "execution_count": 13,
     "metadata": {},
     "output_type": "execute_result"
    }
   ],
   "source": [
    "# Load behaviors\n",
    "behavior_loader = bsoid_loader(data_dir, 'ag25290_day2_iter13')\n",
    "f_index, filtered_data, smoothed_predictions = behavior_loader.main()\n",
    "\n",
    "# Correct prediction start\n",
    "framerate = 60\n",
    "delay = 6.8503\n",
    "behavior_start = int(delay * framerate)  # start of behavior\n",
    "smoothed_predictions_4h = smoothed_predictions[behavior_start:(behavior_start+(3600*60)*4):int(60/10)]\n",
    "smoothed_predictions_4h.shape"
   ]
  },
  {
   "cell_type": "code",
   "execution_count": 14,
   "metadata": {},
   "outputs": [
    {
     "data": {
      "text/plain": [
       "(array([-1,  0,  1,  2,  3,  4,  5,  6,  7,  8,  9, 10, 11, 12, 13, 14, 15,\n",
       "        16, 17, 18, 19, 20, 21, 22, 23, 24, 25, 26, 27, 28], dtype=int32),\n",
       " array([  465,   562,   311,    33,   978,   769,   519,  1454, 12913,\n",
       "        38000,  8826,  6237,    17,   123,   516,  1946,  8840,  1270,\n",
       "         3357,  5532,   216,  2126,  4087,  1030,  3130,  3372,  5404,\n",
       "        27294,   429,  4244]))"
      ]
     },
     "execution_count": 14,
     "metadata": {},
     "output_type": "execute_result"
    }
   ],
   "source": [
    "np.unique(smoothed_predictions_4h, return_counts=True)"
   ]
  },
  {
   "cell_type": "code",
   "execution_count": 15,
   "metadata": {},
   "outputs": [],
   "source": [
    "behav_names_mod = np.array(['insignificant', 'insignificant', 'insignificant', 'insignificant', 'insignificant',\n",
    "         'insignificant', 'wall rear type 2', 'investigate type 1', 'investigate type 2', 'contra-itch',\n",
    "         'investigate type 3', 'insignificant', 'insignificant', 'insignificant', 'contra-body groom',\n",
    "         'face groom type 1', 'dive/scrunch', 'head groom', 'ipsi-orient', 'insignificant',\n",
    "         'face groom type 2', 'ipsi-body groom)', 'ipsi-itch type 1', 'ipsi-itch type 2', 'face groom type 3',\n",
    "         'paw groom', 'locomotion', 'insignificant', 'contra-orient'])"
   ]
  },
  {
   "cell_type": "code",
   "execution_count": 16,
   "metadata": {},
   "outputs": [
    {
     "data": {
      "text/plain": [
       "29"
      ]
     },
     "execution_count": 16,
     "metadata": {},
     "output_type": "execute_result"
    }
   ],
   "source": [
    "len(behav_names_mod)"
   ]
  },
  {
   "cell_type": "code",
   "execution_count": 17,
   "metadata": {},
   "outputs": [],
   "source": [
    "behavior_of_interest_0 = np.array([6, 7, 8, 9, 10, 14, 15, 16, 17, 18, 20, 21, 22, 23, 24, 25, 26, 28])"
   ]
  },
  {
   "cell_type": "code",
   "execution_count": 18,
   "metadata": {},
   "outputs": [
    {
     "data": {
      "text/plain": [
       "18"
      ]
     },
     "execution_count": 18,
     "metadata": {},
     "output_type": "execute_result"
    }
   ],
   "source": [
    "len(behavior_of_interest_0)"
   ]
  },
  {
   "cell_type": "code",
   "execution_count": 83,
   "metadata": {},
   "outputs": [],
   "source": [
    "cmap_all = np.array(['gray', 'gray', 'gray', 'gray', 'gray',\n",
    "        'gray', 'gold', 'tan', 'sandybrown', 'rebeccapurple',\n",
    "        'goldenrod', 'gray', 'gray', 'gray', 'royalblue',\n",
    "        'mediumaquamarine', 'darkkhaki', 'tab:blue', 'hotpink', 'gray',\n",
    "        'darkcyan', 'steelblue', 'slateblue', 'darkslateblue', 'cadetblue',\n",
    "        'yellowgreen', 'indianred', 'gray', 'palevioletred'])\n",
    "cmap_selected = [cmap_all[i] for i in behavior_of_interest_0]"
   ]
  },
  {
   "cell_type": "code",
   "execution_count": 20,
   "metadata": {},
   "outputs": [
    {
     "data": {
      "text/plain": [
       "29"
      ]
     },
     "execution_count": 20,
     "metadata": {},
     "output_type": "execute_result"
    }
   ],
   "source": [
    "len(cmap_all)"
   ]
  },
  {
   "cell_type": "code",
   "execution_count": 21,
   "metadata": {},
   "outputs": [
    {
     "data": {
      "text/plain": [
       "18"
      ]
     },
     "execution_count": 21,
     "metadata": {},
     "output_type": "execute_result"
    }
   ],
   "source": [
    "len(cmap_selected)"
   ]
  },
  {
   "cell_type": "code",
   "execution_count": 22,
   "metadata": {},
   "outputs": [],
   "source": [
    "def data_seg_prepare(data, targets, spikes, smoothed_predictions, random_state=10, limit_count=100, verbose=False):\n",
    "    X = data.copy()\n",
    "    y = targets.copy()\n",
    "    X_subsampled = []\n",
    "    y_subsampled = []\n",
    "    spikes_subsampled = []\n",
    "    smoothed_predictions_subsampled = []\n",
    "\n",
    "    rng = np.random.default_rng(random_state)\n",
    "    # sig_behavs = [i for i, s in enumerate(behav_names_mod) if s != 'insignificant']\n",
    "    sig_behavs = behavior_of_interest_0\n",
    "    for sig_behav in sig_behavs:\n",
    "        idcs_s = np.where(y == sig_behav)[0]\n",
    "        idcs_s_all = np.where(smoothed_predictions_4h == sig_behav)[0]\n",
    "        try:\n",
    "            sampled_idcs_s = rng.choice(len(idcs_s), limit_count, replace=False)\n",
    "            sampled_idcs_s_all = rng.choice(len(idcs_s_all), limit_count, replace=False)\n",
    "        except:\n",
    "            sampled_idcs_s = rng.choice(len(idcs_s), len(idcs_s), replace=False)\n",
    "            sampled_idcs_s_all = rng.choice(len(idcs_s_all), len(idcs_s), replace=False)\n",
    "        y_subsampled.append(y[idcs_s[sampled_idcs_s]])\n",
    "        X_subsampled.append(X[idcs_s[sampled_idcs_s], :])          \n",
    "        smoothed_predictions_subsampled.append(smoothed_predictions[idcs_s_all[sampled_idcs_s_all]])\n",
    "        spikes_subsampled.append(spikes[idcs_s_all[sampled_idcs_s_all], :])\n",
    "            \n",
    "    if verbose:\n",
    "        print(np.hstack(y_subsampled).shape, np.vstack(X_subsampled).shape)\n",
    "\n",
    "    return np.hstack(y_subsampled), np.vstack(X_subsampled), np.hstack(smoothed_predictions_subsampled), np.vstack(spikes_subsampled)"
   ]
  },
  {
   "cell_type": "code",
   "execution_count": 23,
   "metadata": {},
   "outputs": [],
   "source": [
    "def rf_f1_score(X, y, test_size=0.2):\n",
    "    sample_size = np.ceil(1 / test_size) * 4\n",
    "    targets, target_cnts = np.unique(y, return_counts=True)\n",
    "    X_train_arr = [] \n",
    "    X_test_arr = [] \n",
    "    y_train_arr = [] \n",
    "    y_test_arr = []\n",
    "    for i, target_cnt in enumerate(target_cnts):\n",
    "        if target_cnt >= sample_size:\n",
    "            target_idcs = np.where(y == targets[i])[0]\n",
    "            X_train_target, X_test_target, y_train_target, y_test_target = train_test_split(X[target_idcs, :], y[target_idcs], test_size=test_size, random_state=42)\n",
    "            X_train_arr.append(X_train_target)\n",
    "            X_test_arr.append(X_test_target)\n",
    "            y_train_arr.append(y_train_target)\n",
    "            y_test_arr.append(y_test_target)\n",
    "    X_train = np.vstack(X_train_arr)\n",
    "    X_test = np.vstack(X_test_arr)\n",
    "    y_train = np.hstack(y_train_arr)\n",
    "    y_test = np.hstack(y_test_arr)\n",
    "    clf = RandomForestClassifier(n_estimators=200, random_state=42, class_weight='balanced_subsample', n_jobs=-1)\n",
    "    clf.fit(X_train, y_train)\n",
    "    predict = clf.predict(X_test)\n",
    "\n",
    "    return np.unique(y_test), f1_score(y_test, predict, average=None)"
   ]
  },
  {
   "cell_type": "code",
   "execution_count": 24,
   "metadata": {},
   "outputs": [
    {
     "data": {
      "application/vnd.jupyter.widget-view+json": {
       "model_id": "075e966d8a8d485596605718fba49e06",
       "version_major": 2,
       "version_minor": 0
      },
      "text/plain": [
       "  0%|          | 0/101 [00:00<?, ?it/s]"
      ]
     },
     "metadata": {},
     "output_type": "display_data"
    }
   ],
   "source": [
    "# f1_score_diffs = []\n",
    "f1_score_state_behav_arrs = [] \n",
    "f1_score_struct_behav_arrs = []\n",
    "for seed in tqdm(range(100, 200)):\n",
    "    uiq_y_arr = []\n",
    "    # f1_score_diff = []\n",
    "    f1_score_state_behav_arr = []\n",
    "    f1_score_struct_behav_arr = []\n",
    "    for lfp_state in np.unique(predict_naive):\n",
    "        seg_idcs = np.where(predict_naive == lfp_state)[0]\n",
    "        state_spikes = spikes[seg_idcs, :]\n",
    "        state_smoothed_predictions_4h = smoothed_predictions_4h[seg_idcs]\n",
    "        \n",
    "        state_smoothed_predictions_subsampled, state_spikes_subsampled, smoothed_predictions_subsampled, spikes_subsampled = \\\n",
    "            data_seg_prepare(state_spikes, state_smoothed_predictions_4h, spikes, smoothed_predictions_4h, random_state=seed)\n",
    "        \n",
    "        uiq_y, f1_score_state_behav = rf_f1_score(state_spikes_subsampled, state_smoothed_predictions_subsampled)\n",
    "        uiq_y_arr.append(uiq_y)\n",
    "        \n",
    "        _, f1_score_struct_behav = rf_f1_score(spikes_subsampled, smoothed_predictions_subsampled)\n",
    "\n",
    "        # f1_score_diff.append(f1_score_sep_behav - f1_score_smooth_behav)\n",
    "        f1_score_state_behav_arr.append(f1_score_state_behav)\n",
    "        f1_score_struct_behav_arr.append(f1_score_struct_behav)\n",
    "    f1_score_state_behav_arrs.append(f1_score_state_behav_arr)\n",
    "    f1_score_struct_behav_arrs.append(f1_score_struct_behav_arr)\n",
    "    # f1_score_diffs.append(f1_score_diff)"
   ]
  },
  {
   "cell_type": "code",
   "execution_count": 25,
   "metadata": {},
   "outputs": [],
   "source": [
    "pickle.dump(f1_score_state_behav_arrs, open('f1_score_state_behav_arrs.pkl', 'wb'))\n",
    "pickle.dump(f1_score_struct_behav_arrs, open('f1_score_struct_behav_arrs.pkl', 'wb'))"
   ]
  },
  {
   "cell_type": "code",
   "execution_count": null,
   "metadata": {},
   "outputs": [],
   "source": [
    "# loop all lfp states\n",
    "for i in range(len(np.unique(predict_naive))):\n",
    "    state_f1_score_arr = []\n",
    "    for f1_score_diff in f1_score_diffs:\n",
    "        state_f1_score_arr.append(f1_score_diff[i])\n",
    "    state_f1_score = np.vstack(state_f1_score_arr)\n",
    "    state_f1_score_mean = np.mean(state_f1_score, axis=0)\n",
    "    state_f1_score_std = np.std(state_f1_score, axis=0)\n",
    "\n",
    "    plt.figure(i)\n",
    "    plt.bar(np.arange(len(uiq_y_arr[i])), state_f1_score_mean)\n",
    "    plt.errorbar(np.arange(len(uiq_y_arr[i])), state_f1_score_mean, yerr=(state_f1_score_std/np.sqrt(100)), ecolor='black', capsize=4, fmt = ' ')\n",
    "    plt.xticks(np.arange(len(uiq_y_arr[i])), uiq_y_arr[i])"
   ]
  },
  {
   "cell_type": "code",
   "execution_count": null,
   "metadata": {},
   "outputs": [],
   "source": [
    "rows = len(np.unique(predict_naive))\n",
    "cols = 2\n",
    "fig, ax = plt.subplots(rows, cols, figsize=(16, 22), sharex=True, sharey=True)\n",
    "for i in range(rows):\n",
    "    state_f1_score_arr = []\n",
    "    for f1_score_diff in f1_score_diffs:\n",
    "        state_f1_score_arr.append(f1_score_diff[i])\n",
    "    state_f1_score = np.vstack(state_f1_score_arr)\n",
    "    state_f1_score_mean = np.mean(state_f1_score, axis=0)\n",
    "    state_f1_score_std = np.std(state_f1_score, axis=0)\n",
    "\n",
    "    ax[i].bar(np.arange(len(uiq_y_arr[i])), state_f1_score_mean, color=cmap_selected)\n",
    "    ax[i].errorbar(np.arange(len(uiq_y_arr[i])), state_f1_score_mean, yerr=(state_f1_score_std/np.sqrt(100)), ecolor='black', capsize=4, fmt = ' ')\n",
    "    ax[i].xticks(np.arange(len(uiq_y_arr[i])), uiq_y_arr[i])\n",
    "        "
   ]
  },
  {
   "cell_type": "code",
   "execution_count": 98,
   "metadata": {},
   "outputs": [
    {
     "data": {
      "text/plain": [
       "float"
      ]
     },
     "execution_count": 98,
     "metadata": {},
     "output_type": "execute_result"
    }
   ],
   "source": [
    "type(1.0)"
   ]
  },
  {
   "cell_type": "code",
   "execution_count": 102,
   "metadata": {},
   "outputs": [
    {
     "data": {
      "application/vnd.jupyter.widget-view+json": {
       "model_id": "20eca240ee3140f2937412a1ab1a62a8",
       "version_major": 2,
       "version_minor": 0
      },
      "text/plain": [
       "  0%|          | 0/10 [00:00<?, ?it/s]"
      ]
     },
     "metadata": {},
     "output_type": "display_data"
    }
   ],
   "source": [
    "state_dfs = []\n",
    "struct_dfs = []\n",
    "for i in tqdm(range(len(np.unique(predict_naive)))):\n",
    "    state_behav_arr = []\n",
    "    state_f1_score_arr = []\n",
    "    struct_behav_arr = []\n",
    "    struct_f1_score_arr = []\n",
    "    for j in range(len(f1_score_state_behav_arrs)):\n",
    "        f1_score_state_behav_arr = f1_score_state_behav_arrs[j]\n",
    "        f1_score_struct_behav_arr = f1_score_struct_behav_arrs[j]\n",
    "        state_behav_arr.append(uiq_y_arr[i])\n",
    "        struct_behav_arr.append(uiq_y_arr[i])\n",
    "        state_f1_score_arr.append(f1_score_state_behav_arr[i])\n",
    "        struct_f1_score_arr.append(f1_score_struct_behav_arr[i])\n",
    "\n",
    "    state_behav = np.hstack(state_behav_arr)\n",
    "    state_f1_score = np.hstack(state_f1_score_arr)\n",
    "    state_df = pd.DataFrame(data=np.vstack([state_behav.astype(int), state_f1_score]).T, columns=['behav', 'f1_score'])\n",
    "    state_df = state_df.astype({'behav': int, 'f1_score': float})\n",
    "    state_dfs.append(state_df)\n",
    "\n",
    "    struct_behav = np.hstack(struct_behav_arr)\n",
    "    struct_f1_score = np.hstack(struct_f1_score_arr)\n",
    "    struct_df = pd.DataFrame(data=np.vstack([struct_behav.astype(int), struct_f1_score]).T, columns=['behav', 'f1_score'])\n",
    "    struct_df = struct_df.astype({'behav': int, 'f1_score': float})\n",
    "    struct_dfs.append(struct_df)"
   ]
  },
  {
   "cell_type": "code",
   "execution_count": 103,
   "metadata": {},
   "outputs": [
    {
     "data": {
      "text/html": [
       "<div>\n",
       "<style scoped>\n",
       "    .dataframe tbody tr th:only-of-type {\n",
       "        vertical-align: middle;\n",
       "    }\n",
       "\n",
       "    .dataframe tbody tr th {\n",
       "        vertical-align: top;\n",
       "    }\n",
       "\n",
       "    .dataframe thead th {\n",
       "        text-align: right;\n",
       "    }\n",
       "</style>\n",
       "<table border=\"1\" class=\"dataframe\">\n",
       "  <thead>\n",
       "    <tr style=\"text-align: right;\">\n",
       "      <th></th>\n",
       "      <th>behav</th>\n",
       "      <th>f1_score</th>\n",
       "    </tr>\n",
       "  </thead>\n",
       "  <tbody>\n",
       "    <tr>\n",
       "      <th>0</th>\n",
       "      <td>6</td>\n",
       "      <td>0.190476</td>\n",
       "    </tr>\n",
       "    <tr>\n",
       "      <th>1</th>\n",
       "      <td>7</td>\n",
       "      <td>0.318182</td>\n",
       "    </tr>\n",
       "    <tr>\n",
       "      <th>2</th>\n",
       "      <td>8</td>\n",
       "      <td>0.083333</td>\n",
       "    </tr>\n",
       "    <tr>\n",
       "      <th>3</th>\n",
       "      <td>9</td>\n",
       "      <td>0.533333</td>\n",
       "    </tr>\n",
       "    <tr>\n",
       "      <th>4</th>\n",
       "      <td>10</td>\n",
       "      <td>0.392857</td>\n",
       "    </tr>\n",
       "    <tr>\n",
       "      <th>...</th>\n",
       "      <td>...</td>\n",
       "      <td>...</td>\n",
       "    </tr>\n",
       "    <tr>\n",
       "      <th>1813</th>\n",
       "      <td>23</td>\n",
       "      <td>0.756757</td>\n",
       "    </tr>\n",
       "    <tr>\n",
       "      <th>1814</th>\n",
       "      <td>24</td>\n",
       "      <td>0.444444</td>\n",
       "    </tr>\n",
       "    <tr>\n",
       "      <th>1815</th>\n",
       "      <td>25</td>\n",
       "      <td>0.344828</td>\n",
       "    </tr>\n",
       "    <tr>\n",
       "      <th>1816</th>\n",
       "      <td>26</td>\n",
       "      <td>0.583333</td>\n",
       "    </tr>\n",
       "    <tr>\n",
       "      <th>1817</th>\n",
       "      <td>28</td>\n",
       "      <td>0.510638</td>\n",
       "    </tr>\n",
       "  </tbody>\n",
       "</table>\n",
       "<p>1818 rows × 2 columns</p>\n",
       "</div>"
      ],
      "text/plain": [
       "      behav  f1_score\n",
       "0         6  0.190476\n",
       "1         7  0.318182\n",
       "2         8  0.083333\n",
       "3         9  0.533333\n",
       "4        10  0.392857\n",
       "...     ...       ...\n",
       "1813     23  0.756757\n",
       "1814     24  0.444444\n",
       "1815     25  0.344828\n",
       "1816     26  0.583333\n",
       "1817     28  0.510638\n",
       "\n",
       "[1818 rows x 2 columns]"
      ]
     },
     "execution_count": 103,
     "metadata": {},
     "output_type": "execute_result"
    }
   ],
   "source": [
    "struct_df"
   ]
  },
  {
   "cell_type": "code",
   "execution_count": 104,
   "metadata": {},
   "outputs": [
    {
     "data": {
      "text/plain": [
       "Text(0.08, 0.5, 'F1-scores')"
      ]
     },
     "execution_count": 104,
     "metadata": {},
     "output_type": "execute_result"
    },
    {
     "data": {
      "image/png": "[encoded data removed]",
      "text/plain": [
       "<Figure size 1152x1440 with 20 Axes>"
      ]
     },
     "metadata": {
      "needs_background": "light"
     },
     "output_type": "display_data"
    }
   ],
   "source": [
    "rows = len(np.unique(predict_naive))\n",
    "cols = 2\n",
    "fig, ax = plt.subplots(rows, cols, figsize=(16, 20), sharey=True)\n",
    "for i in range(rows):\n",
    "    state_plt = sns.barplot(data=state_dfs[i], x=\"behav\", y=\"f1_score\", ax=ax[i][0], palette = cmap_all[uiq_y_arr[i]], width=0.6)\n",
    "    state_plt.set(xlabel=None, ylabel=None)\n",
    "    struct_plt = sns.barplot(data=struct_dfs[i], x=\"behav\", y=\"f1_score\", ax=ax[i][1], palette = cmap_all[uiq_y_arr[i]], width=0.6)\n",
    "    struct_plt.set(xlabel=None, ylabel=None)\n",
    "fig.suptitle('Behavior-wise f1 scores for lfp and constructed segmentations', fontweight='bold', y=0.9, fontsize=15)\n",
    "fig.text(0.5, 0.1, 'Behavior', ha='center', va='center', fontsize=16)\n",
    "fig.text(0.08, 0.5, 'F1-scores', ha='center', va='center', rotation='vertical', fontsize=16)"
   ]
  }
 ],
 "metadata": {
  "kernelspec": {
   "display_name": "nsp",
   "language": "python",
   "name": "python3"
  },
  "language_info": {
   "codemirror_mode": {
    "name": "ipython",
    "version": 3
   },
   "file_extension": ".py",
   "mimetype": "text/x-python",
   "name": "python",
   "nbconvert_exporter": "python",
   "pygments_lexer": "ipython3",
   "version": "3.8.0"
  },
  "orig_nbformat": 4,
  "vscode": {
   "interpreter": {
    "hash": "8b4524c2285503ee5371e1693aa576532508aa4de32b1b2b5267b2ef38aeeb4c"
   }
  }
 },
 "nbformat": 4,
 "nbformat_minor": 2
}
