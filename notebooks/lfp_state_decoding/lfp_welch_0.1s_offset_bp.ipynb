{
 "cells": [
  {
   "cell_type": "code",
   "execution_count": 5,
   "metadata": {},
   "outputs": [],
   "source": [
    "import mat73\n",
    "import matplotlib.pyplot as plt\n",
    "import numpy as np\n",
    "from tqdm import notebook\n",
    "from scipy import stats\n",
    "from scipy.signal import hilbert\n",
    "from scipy.signal import butter, sosfiltfilt\n",
    "from scipy import signal\n",
    "from scipy.fft import fftshift\n",
    "import pickle\n",
    "import joblib\n",
    "import os"
   ]
  },
  {
   "cell_type": "markdown",
   "metadata": {},
   "source": [
    "## define bandpower func"
   ]
  },
  {
   "cell_type": "code",
   "execution_count": 6,
   "metadata": {},
   "outputs": [],
   "source": [
    "def bandpower(data, fs, band, method, window_sec=None, relative=False):\n",
    "    \"\"\"Compute the average power of the signal x in a specific frequency band.\n",
    "\n",
    "    Requires MNE-Python >= 0.14.\n",
    "\n",
    "    Parameters\n",
    "    ----------\n",
    "    data : 1d-array\n",
    "      Input signal in the time-domain.\n",
    "    sf : float\n",
    "      Sampling frequency of the data.\n",
    "    band : list\n",
    "      Lower and upper frequencies of the band of interest.\n",
    "    method : string\n",
    "      Periodogram method: 'welch'\n",
    "    window_sec : float\n",
    "      Length of each window in seconds. Useful only if method == 'welch'.\n",
    "      If None, window_sec = (1 / min(band)) * 2.\n",
    "    relative : boolean\n",
    "      If True, return the relative power (= divided by the total power of the signal).\n",
    "      If False (default), return the absolute power.\n",
    "\n",
    "    Return\n",
    "    ------\n",
    "    bp : float\n",
    "      Absolute or relative band power.\n",
    "    \"\"\"\n",
    "    from scipy.signal import welch\n",
    "    from scipy.integrate import simps\n",
    "\n",
    "    band = np.asarray(band)\n",
    "    low, high = band\n",
    "\n",
    "    # Compute the modified periodogram (Welch)\n",
    "    if method == 'welch':\n",
    "        if window_sec is not None:\n",
    "            nperseg = window_sec * fs\n",
    "        else:\n",
    "            nperseg = (2 / low) * fs\n",
    "\n",
    "        freqs, psd = welch(data, fs, nperseg=nperseg)\n",
    "        \n",
    "    else:\n",
    "        print('Method not implemented.')\n",
    "\n",
    "    # Frequency resolution\n",
    "    freq_res = freqs[1] - freqs[0]\n",
    "\n",
    "    # Find index of band in frequency vector\n",
    "    idx_band = np.logical_and(freqs >= low, freqs <= high)\n",
    "\n",
    "    # Integral approximation of the spectrum using parabola (Simpson's rule)\n",
    "    bp = simps(psd[idx_band], dx=freq_res)\n",
    "\n",
    "    if relative:\n",
    "        bp /= simps(psd, dx=freq_res)\n",
    "    return bp"
   ]
  },
  {
   "cell_type": "code",
   "execution_count": 7,
   "metadata": {},
   "outputs": [],
   "source": [
    "data_dir = r'../processed_data'"
   ]
  },
  {
   "cell_type": "markdown",
   "metadata": {},
   "source": [
    "## load lfp (mat 7.3) file"
   ]
  },
  {
   "cell_type": "code",
   "execution_count": 8,
   "metadata": {},
   "outputs": [
    {
     "name": "stdout",
     "output_type": "stream",
     "text": [
      "sampling frequency is 1250 Hz\n",
      "full LFP lasted for 4.540507555555555 hours across 39 channels\n"
     ]
    },
    {
     "data": {
      "text/plain": [
       "(18000000, 12)"
      ]
     },
     "execution_count": 8,
     "metadata": {},
     "output_type": "execute_result"
    }
   ],
   "source": [
    "filepath = 'lfp.mat'\n",
    "ey_lfp = mat73.loadmat(os.path.join(data_dir, filepath))\n",
    "fs = int(ey_lfp[\"lfp\"][\"samplerate\"][0])\n",
    "print(f'sampling frequency is {fs} Hz')\n",
    "full_lfp = np.vstack([ey_lfp['lfp']['data'][ch] for ch in range(len(ey_lfp['lfp']['data']))]).T\n",
    "print(f'full LFP lasted for {full_lfp.shape[0]/(fs*60*60)} hours across {full_lfp.shape[1]} channels')"
   ]
  },
  {
   "cell_type": "code",
   "execution_count": 9,
   "metadata": {},
   "outputs": [
    {
     "data": {
      "text/plain": [
       "(20432284, 12)"
      ]
     },
     "execution_count": 9,
     "metadata": {},
     "output_type": "execute_result"
    }
   ],
   "source": [
    "full_lfp_reduced_channels = full_lfp[:, [3,4,5,1,35,37,19,24,29,8,13,16]]\n",
    "full_lfp_reduced_channels.shape"
   ]
  },
  {
   "cell_type": "code",
   "execution_count": null,
   "metadata": {},
   "outputs": [],
   "source": [
    "def lfp_bp_extract(lfp, offset):\n",
    "    # define frequency ranges for band powers\n",
    "    freq_bands = [[3, 8], [10, 30], [30, 50], [50, 80]]\n",
    "    bands = ['theta', 'beta', 'lower_gamma', 'higher_gamma']\n",
    "    # initialize list\n",
    "    band_pow = []\n",
    "\n",
    "    # define window in seconds for frequency analysis\n",
    "    window_dur = 1\n",
    "    # define time total in hours for analysis\n",
    "    duration_total = 4\n",
    "\n",
    "    win_size = int(window_dur*fs) # sampling at 1250 Hz, 1s is 1250 samples\n",
    "    offset_size = int(offset*fs) # offset is in secs\n",
    "    nun_overlaps = 1\n",
    "    win_num = int(duration_total*60*60/window_dur*nun_overlaps)\n",
    "\n",
    "    # for each band\n",
    "    for _, freq_band in enumerate(notebook.tqdm(freq_bands)):\n",
    "        instant_band_pow_all = []\n",
    "        # for each channel\n",
    "        for ch in notebook.tqdm(range(lfp.shape[1])):\n",
    "            instant_band_pow_single = []\n",
    "            # for each analysis window\n",
    "            for win in notebook.tqdm(range(win_num)): \n",
    "                # window will be minimum nyquist 2/low_cut\n",
    "                bp = bandpower(lfp[int(offset_size+win*win_size*1/nun_overlaps):int(offset_size+win*win_size*1/nun_overlaps)+win_size, ch],\n",
    "                                        fs, \n",
    "                                        freq_band, \n",
    "                                        'welch')\n",
    "                # a list of instantaneous single band power single channel\n",
    "                instant_band_pow_single.append(bp) \n",
    "            # a list of 39 channels, single band power\n",
    "            instant_band_pow_all.append(np.hstack((instant_band_pow_single)))\n",
    "        band_pow.append(instant_band_pow_all)\n",
    "    \n",
    "    features = np.vstack(([np.vstack(band_pow[b]) for b in range(len(band_pow))]))\n",
    "    zscore_feats = stats.zscore(features, axis=1)\n",
    "    zscore_feats.T.shape\n",
    "    pickle.dump(zscore_feats, open(f'../processed_data/welch_bp/welch_nonoverlap_zscore_bp_{offset}_s_offset.np', 'wb'))"
   ]
  },
  {
   "cell_type": "code",
   "execution_count": null,
   "metadata": {},
   "outputs": [],
   "source": [
    "for offset in range(0.1, 1, 0.1):\n",
    "    lfp_bp_extract(full_lfp_reduced_channels, offset)"
   ]
  }
 ],
 "metadata": {
  "kernelspec": {
   "display_name": "nsp",
   "language": "python",
   "name": "python3"
  },
  "language_info": {
   "codemirror_mode": {
    "name": "ipython",
    "version": 3
   },
   "file_extension": ".py",
   "mimetype": "text/x-python",
   "name": "python",
   "nbconvert_exporter": "python",
   "pygments_lexer": "ipython3",
   "version": "3.8.0"
  },
  "orig_nbformat": 4,
  "vscode": {
   "interpreter": {
    "hash": "8b4524c2285503ee5371e1693aa576532508aa4de32b1b2b5267b2ef38aeeb4c"
   }
  }
 },
 "nbformat": 4,
 "nbformat_minor": 2
}
