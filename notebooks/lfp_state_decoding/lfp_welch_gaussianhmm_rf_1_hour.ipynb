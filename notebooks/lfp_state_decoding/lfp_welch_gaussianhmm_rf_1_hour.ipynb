{
 "cells": [
  {
   "cell_type": "code",
   "execution_count": 14,
   "metadata": {},
   "outputs": [],
   "source": [
    "from scipy.io import loadmat\n",
    "import mat73\n",
    "import matplotlib.pyplot as plt\n",
    "from hmmlearn import hmm\n",
    "import numpy as np\n",
    "from tqdm import notebook\n",
    "from scipy import stats\n",
    "from scipy.signal import hilbert\n",
    "from scipy.signal import butter, sosfiltfilt\n",
    "from scipy import signal\n",
    "from scipy.fft import fftshift\n",
    "from kneed import KneeLocator\n",
    "import pickle\n",
    "import joblib\n",
    "import os\n",
    "import sys\n",
    "sys.path.append('../libraries/') # Append the path within which the user-defined class is in\n",
    "from data_loader import data_loader\n",
    "from behavior_loader import bsoid_loader\n",
    "from sklearn.ensemble import RandomForestClassifier\n",
    "from sklearn.model_selection import train_test_split\n",
    "from sklearn.metrics import f1_score\n",
    "from sklearn.metrics import confusion_matrix"
   ]
  },
  {
   "cell_type": "code",
   "execution_count": 15,
   "metadata": {},
   "outputs": [],
   "source": [
    "data_dir = r'../processed_data'"
   ]
  },
  {
   "cell_type": "markdown",
   "metadata": {},
   "source": [
    "### Load 1-hour l5 spikes"
   ]
  },
  {
   "cell_type": "code",
   "execution_count": 19,
   "metadata": {},
   "outputs": [
    {
     "name": "stdout",
     "output_type": "stream",
     "text": [
      "Spike times are binned into shape: (36000, 46)\n"
     ]
    }
   ],
   "source": [
    "with open(os.path.join(data_dir, 'm1_fr0.1hz_30hz_0s_7200s_0.1s_bins_nooverlap.sav'), 'rb') as file:\n",
    "    spike_times_all_neurons = joblib.load(file)\n",
    "\n",
    "# Convert to numpy array\n",
    "spike_times_all_neurons = np.array(spike_times_all_neurons)\n",
    "\n",
    "# Transpose into (71999, 90)\n",
    "spike_times_all_neurons = spike_times_all_neurons.T\n",
    "\n",
    "# Truncate 2-four m1 recording to 1-hour l5 recording into (36000, 46), \n",
    "# 0th to 45th L5/6, 46th to 89th L2/3, 89th being the most shallow\n",
    "spike_times_l5_neurons_1h = spike_times_all_neurons[:36000, :46]\n",
    "\n",
    "# # (Number of 100-ms bins, Number of l2 neurons)\n",
    "# T_1h, D_m1 = spike_times_all_neurons_1h.shape\n",
    "\n",
    "# Z-score each neuron, i.e. firing rates of each neuron across time sum to 0\n",
    "spike_times_l5_neurons_1h_zscored = stats.zscore(spike_times_l5_neurons_1h) # Default axis is 0\n",
    "\n",
    "spikes = spike_times_l5_neurons_1h_zscored\n",
    "print(f'Spike times are binned into shape: {spikes.shape}')"
   ]
  },
  {
   "attachments": {},
   "cell_type": "markdown",
   "metadata": {},
   "source": [
    "### Load 1-hour z-scored bandpower features of lpf using Welch method"
   ]
  },
  {
   "cell_type": "code",
   "execution_count": 78,
   "metadata": {},
   "outputs": [
    {
     "name": "stdout",
     "output_type": "stream",
     "text": [
      "Z-scored bandpower features are binned into shape: (36000, 156)\n"
     ]
    }
   ],
   "source": [
    "zscore_feats = pickle.load(open(os.path.join(data_dir, 'welch_band_pow_zscore.np'), 'rb')).T\n",
    "print(f'Z-scored bandpower features are binned into shape: {zscore_feats.shape}')"
   ]
  },
  {
   "attachments": {},
   "cell_type": "markdown",
   "metadata": {},
   "source": [
    "### Load best hmm model that seperates lpf most clearly and predict on lpf features"
   ]
  },
  {
   "cell_type": "code",
   "execution_count": 79,
   "metadata": {},
   "outputs": [],
   "source": [
    "K = 6\n",
    "hmm_best = pickle.load(open(f'../hmm_models/hmm_welch/hmm_lpf_{K}_states.hmm', 'rb'))\n",
    "hmm_states = hmm_best.predict(zscore_feats)[::int(zscore_feats.shape[0]/spikes.shape[0])]"
   ]
  },
  {
   "attachments": {},
   "cell_type": "markdown",
   "metadata": {},
   "source": [
    "### Load 1-hour behaviors"
   ]
  },
  {
   "cell_type": "code",
   "execution_count": 80,
   "metadata": {},
   "outputs": [
    {
     "name": "stdout",
     "output_type": "stream",
     "text": [
      "Mouse stayed in nest for 0.28108749470484795% of time\n",
      "Smooth window: 6\n",
      "File #0 (a 6 body parts by 984391 frames) has 30 classes\n"
     ]
    }
   ],
   "source": [
    "# Load behaviors\n",
    "behavior_loader = bsoid_loader(data_dir, 'ag25290_day2_iter13')\n",
    "f_index, filtered_data, smoothed_predictions = behavior_loader.main()\n",
    "\n",
    "# Correct prediction start\n",
    "framerate = 60\n",
    "delay = 6.8503\n",
    "behavior_start = int(delay * framerate)  # start of behavior\n",
    "smoothed_predictions_1h = smoothed_predictions[behavior_start:(behavior_start+3600*60):int(60/10)]"
   ]
  },
  {
   "cell_type": "code",
   "execution_count": 81,
   "metadata": {},
   "outputs": [],
   "source": [
    "behav_names_mod = ['insignificant', 'insignificant', 'insignificant', 'insignificant', 'rear',\n",
    "         'insignificant', 'insignificant', 'investigate type 1', 'investigate type 2', 'contra-itch',\n",
    "         'investigate type 3', 'insignificant', 'insignificant', 'insignificant', 'contra-body groom',\n",
    "         'face groom type 1', 'dive/scrunch', 'head groom', 'ipsi-orient', 'insignificant',\n",
    "         'face groom type 2', 'ipsi-body groom', 'ipsi-itch type 1', 'insignificant', 'insignificant', \n",
    "         'paw groom', 'locomotion', 'insignificant', 'contra-orient']"
   ]
  },
  {
   "cell_type": "markdown",
   "metadata": {},
   "source": [
    "### Classify behaviors within hmm states"
   ]
  },
  {
   "cell_type": "code",
   "execution_count": 82,
   "metadata": {},
   "outputs": [],
   "source": [
    "def data_seg_prepare(data, targets, spikes, smoothed_predictions, random_state=10, limit_count=100, verbose=False):\n",
    "    X = data.copy()\n",
    "    y = targets.copy()\n",
    "    X_subsampled = []\n",
    "    y_subsampled = []\n",
    "    spikes_subsampled = []\n",
    "    smoothed_predictions_subsampled = []\n",
    "\n",
    "    rng = np.random.default_rng(random_state)\n",
    "    sig_behavs = [i for i, s in enumerate(behav_names_mod) if s != 'insignificant']\n",
    "    for sig_behav in sig_behavs:\n",
    "        idcs_s = np.where(y == sig_behav)[0]\n",
    "        idcs_s_all = np.where(smoothed_predictions_1h == sig_behav)[0]\n",
    "        try:\n",
    "            sampled_idcs_s = rng.choice(len(idcs_s), limit_count, replace=False)\n",
    "            sampled_idcs_s_all = rng.choice(len(idcs_s_all), limit_count, replace=False)\n",
    "        except:\n",
    "            sampled_idcs_s = rng.choice(len(idcs_s), len(idcs_s), replace=False)\n",
    "            sampled_idcs_s_all = rng.choice(len(idcs_s_all), len(idcs_s), replace=False)\n",
    "        y_subsampled.append(y[idcs_s[sampled_idcs_s]])\n",
    "        X_subsampled.append(X[idcs_s[sampled_idcs_s], :])          \n",
    "        smoothed_predictions_subsampled.append(smoothed_predictions[idcs_s_all[sampled_idcs_s_all]])\n",
    "        spikes_subsampled.append(spikes[idcs_s_all[sampled_idcs_s_all], :])\n",
    "            \n",
    "    if verbose:\n",
    "        print(np.hstack(y_subsampled).shape, np.vstack(X_subsampled).shape)\n",
    "\n",
    "    return np.hstack(y_subsampled), np.vstack(X_subsampled), np.hstack(smoothed_predictions_subsampled), np.vstack(spikes_subsampled)"
   ]
  },
  {
   "cell_type": "code",
   "execution_count": null,
   "metadata": {},
   "outputs": [],
   "source": [
    "config = []\n",
    "rf_score_offset_arr = []\n",
    "for state in range(100):\n",
    "  reducer = umap.UMAP(n_components=5, n_neighbors=60, min_dist=0, random_state=state)\n",
    "  embedding = reducer.fit_transform(zscore_feats.T)\n",
    "  for min_cluster_size in range(150, 301, 50):\n",
    "    for min_samples in range(15, 21, 5):\n",
    "      clusterer_umap = hdbscan.HDBSCAN(min_cluster_size=min_cluster_size, min_samples=min_samples, prediction_data=True).fit(embedding)\n",
    "      X = zscore_feats[:, clusterer_umap.labels_ >= 0]\n",
    "      y = clusterer_umap.labels_[clusterer_umap.labels_ >= 0]\n",
    "      clf = RandomForestClassifier(n_estimators=200, random_state=42, class_weight='balanced_subsample', n_jobs=-1)\n",
    "      clf.fit(X.T, y)\n",
    "      y_all = clf.predict(zscore_feats.T)\n",
    "      _, rf_f1_score = rf_f1_score(zscore_feats.T, y_all, test_size=0.2, average_type='macro')\n",
    "      rf_f1_score_offset = rf_f1_score - (1 / len(np.unique(y_all)))\n",
    "      rf_score_offset_arr.append(rf_f1_score_offset)\n",
    "      config.append({'umap_state': state,\n",
    "                     'min_cluster_size': min_cluster_size,\n",
    "                     'min_samples': min_samples,\n",
    "                     'rf_f1_score_offset': rf_f1_score_offset})"
   ]
  },
  {
   "cell_type": "code",
   "execution_count": 85,
   "metadata": {},
   "outputs": [],
   "source": [
    "def rf_f1_score(X, y, test_size=0.2):\n",
    "    sample_size = np.ceil(1 / test_size) * 4\n",
    "    targets, target_cnts = np.unique(y, return_counts=True)\n",
    "    X_train_arr = [] \n",
    "    X_test_arr = [] \n",
    "    y_train_arr = [] \n",
    "    y_test_arr = []\n",
    "    for i, target_cnt in enumerate(target_cnts):\n",
    "        if target_cnt >= sample_size:\n",
    "            target_idcs = np.where(y == targets[i])[0]\n",
    "            X_train_target, X_test_target, y_train_target, y_test_target = train_test_split(X[target_idcs, :], y[target_idcs], test_size=test_size, random_state=42)\n",
    "            X_train_arr.append(X_train_target)\n",
    "            X_test_arr.append(X_test_target)\n",
    "            y_train_arr.append(y_train_target)\n",
    "            y_test_arr.append(y_test_target)\n",
    "    X_train = np.vstack(X_train_arr)\n",
    "    X_test = np.vstack(X_test_arr)\n",
    "    y_train = np.hstack(y_train_arr)\n",
    "    y_test = np.hstack(y_test_arr)\n",
    "    clf = RandomForestClassifier(n_estimators=200, random_state=42, class_weight='balanced_subsample', n_jobs=-1)\n",
    "    clf.fit(X_train, y_train)\n",
    "    print(np.unique(y_train, return_counts=True))\n",
    "    predict = clf.predict(X_test)\n",
    "\n",
    "    return np.unique(y_test), f1_score(y_test, predict, average=None)"
   ]
  },
  {
   "cell_type": "code",
   "execution_count": 86,
   "metadata": {},
   "outputs": [
    {
     "name": "stdout",
     "output_type": "stream",
     "text": [
      "(array([ 7,  8,  9, 10, 15, 17, 18, 21, 25, 26, 28], dtype=int32), array([80, 80, 52, 79, 75, 56, 60, 64, 74, 80, 40]))\n",
      "(array([ 7,  8,  9, 10, 15, 17, 18, 21, 25, 26, 28], dtype=int32), array([80, 80, 52, 79, 75, 56, 60, 64, 74, 80, 40]))\n",
      "(array([ 4,  7,  8,  9, 10, 14, 15, 16, 17, 18, 20, 21, 22, 25, 26, 28],\n",
      "      dtype=int32), array([18, 80, 80, 80, 48, 80, 80, 47, 80, 79, 80, 80, 51, 80, 80, 52]))\n",
      "(array([ 4,  7,  8,  9, 10, 14, 15, 16, 17, 18, 20, 21, 22, 25, 26, 28],\n",
      "      dtype=int32), array([18, 80, 80, 80, 48, 80, 80, 47, 80, 79, 80, 80, 51, 80, 80, 52]))\n",
      "(array([ 7,  8, 10], dtype=int32), array([31, 80, 38]))\n",
      "(array([ 7,  8, 10], dtype=int32), array([31, 80, 38]))\n",
      "(array([ 4,  7,  8,  9, 10, 14, 15, 16, 17, 18, 20, 21, 22, 25, 26, 28],\n",
      "      dtype=int32), array([42, 80, 80, 80, 80, 80, 80, 80, 80, 80, 80, 80, 80, 80, 80, 80]))\n",
      "(array([ 4,  7,  8,  9, 10, 14, 15, 16, 17, 18, 20, 21, 22, 25, 26, 28],\n",
      "      dtype=int32), array([42, 80, 80, 80, 80, 80, 80, 80, 80, 80, 80, 80, 80, 80, 80, 80]))\n",
      "(array([ 7,  8,  9, 10, 14, 15, 16, 17, 18, 20, 21, 22, 25, 26, 28],\n",
      "      dtype=int32), array([80, 80, 52, 80, 19, 80, 43, 29, 80, 18, 78, 18, 28, 80, 72]))\n",
      "(array([ 7,  8,  9, 10, 14, 15, 16, 17, 18, 20, 21, 22, 25, 26, 28],\n",
      "      dtype=int32), array([80, 80, 52, 80, 19, 80, 43, 29, 80, 18, 78, 18, 28, 80, 72]))\n",
      "(array([ 4,  7,  8,  9, 10, 14, 15, 16, 17, 18, 20, 21, 22, 25, 26, 28],\n",
      "      dtype=int32), array([24, 80, 80, 80, 80, 72, 80, 80, 46, 80, 36, 80, 54, 80, 80, 80]))\n",
      "(array([ 4,  7,  8,  9, 10, 14, 15, 16, 17, 18, 20, 21, 22, 25, 26, 28],\n",
      "      dtype=int32), array([24, 80, 80, 80, 80, 72, 80, 80, 46, 80, 36, 80, 54, 80, 80, 80]))\n"
     ]
    }
   ],
   "source": [
    "uiq_y_arr = []\n",
    "f1_score_diff = []\n",
    "f1_score_smooth_behav_arr = []\n",
    "for hmm_state in np.unique(hmm_states):\n",
    "    seg_idcs = np.where(hmm_states == hmm_state)[0]\n",
    "    state_spikes = spikes[seg_idcs, :]\n",
    "    state_smoothed_predictions_1h = smoothed_predictions_1h[seg_idcs]\n",
    "    \n",
    "    state_smoothed_predictions_subsampled, state_spikes_subsampled, smoothed_predictions_subsampled, spikes_subsampled = \\\n",
    "        data_seg_prepare(state_spikes, state_smoothed_predictions_1h, spikes, smoothed_predictions_1h, random_state=seed)\n",
    "    \n",
    "    uiq_y, f1_score_sep_behav = rf_f1_score(state_spikes_subsampled, state_smoothed_predictions_subsampled)\n",
    "    uiq_y_arr.append(uiq_y)\n",
    "    \n",
    "    _, f1_score_smooth_behav = rf_f1_score(spikes_subsampled, smoothed_predictions_subsampled)\n",
    "\n",
    "    f1_score_diff.append(f1_score_sep_behav - f1_score_smooth_behav)\n",
    "    f1_score_smooth_behav_arr.append(f1_score_smooth_behav)"
   ]
  },
  {
   "cell_type": "code",
   "execution_count": 73,
   "metadata": {},
   "outputs": [
    {
     "data": {
      "application/vnd.jupyter.widget-view+json": {
       "model_id": "5928267e61594c10be56189efcd0dc1c",
       "version_major": 2,
       "version_minor": 0
      },
      "text/plain": [
       "  0%|          | 0/101 [00:00<?, ?it/s]"
      ]
     },
     "metadata": {},
     "output_type": "display_data"
    }
   ],
   "source": [
    "f1_score_diffs = []\n",
    "f1_score_smooth_behav_arrs = []\n",
    "for seed in notebook.tqdm(range(100, 201)):\n",
    "    uiq_y_arr = []\n",
    "    f1_score_diff = []\n",
    "    f1_score_smooth_behav_arr = []\n",
    "    for hmm_state in np.unique(hmm_states):\n",
    "        seg_idcs = np.where(hmm_states == hmm_state)[0]\n",
    "        state_spikes = spikes[seg_idcs, :]\n",
    "        state_smoothed_predictions_1h = smoothed_predictions_1h[seg_idcs]\n",
    "        \n",
    "        state_smoothed_predictions_subsampled, state_spikes_subsampled, smoothed_predictions_subsampled, spikes_subsampled = \\\n",
    "            data_seg_prepare(state_spikes, state_smoothed_predictions_1h, spikes, smoothed_predictions_1h, random_state=seed)\n",
    "        \n",
    "        uiq_y, f1_score_sep_behav = rf_f1_score(state_spikes_subsampled, state_smoothed_predictions_subsampled)\n",
    "        uiq_y_arr.append(uiq_y)\n",
    "        \n",
    "        _, f1_score_smooth_behav = rf_f1_score(spikes_subsampled, smoothed_predictions_subsampled)\n",
    "\n",
    "        f1_score_diff.append(f1_score_sep_behav - f1_score_smooth_behav)\n",
    "        f1_score_smooth_behav_arr.append(f1_score_smooth_behav)\n",
    "    f1_score_smooth_behav_arrs.append(f1_score_smooth_behav_arr)\n",
    "    f1_score_diffs.append(f1_score_diff)"
   ]
  },
  {
   "cell_type": "code",
   "execution_count": 74,
   "metadata": {},
   "outputs": [
    {
     "data": {
      "image/png": "[encoded data removed]",
      "text/plain": [
       "<Figure size 432x288 with 1 Axes>"
      ]
     },
     "metadata": {
      "needs_background": "light"
     },
     "output_type": "display_data"
    },
    {
     "data": {
      "image/png": "[encoded data removed]",
      "text/plain": [
       "<Figure size 432x288 with 1 Axes>"
      ]
     },
     "metadata": {
      "needs_background": "light"
     },
     "output_type": "display_data"
    },
    {
     "data": {
      "image/png": "[encoded data removed]",
      "text/plain": [
       "<Figure size 432x288 with 1 Axes>"
      ]
     },
     "metadata": {
      "needs_background": "light"
     },
     "output_type": "display_data"
    },
    {
     "data": {
      "image/png": "[encoded data removed]",
      "text/plain": [
       "<Figure size 432x288 with 1 Axes>"
      ]
     },
     "metadata": {
      "needs_background": "light"
     },
     "output_type": "display_data"
    },
    {
     "data": {
      "image/png": "[encoded data removed]",
      "text/plain": [
       "<Figure size 432x288 with 1 Axes>"
      ]
     },
     "metadata": {
      "needs_background": "light"
     },
     "output_type": "display_data"
    },
    {
     "data": {
      "image/png": "[encoded data removed]",
      "text/plain": [
       "<Figure size 432x288 with 1 Axes>"
      ]
     },
     "metadata": {
      "needs_background": "light"
     },
     "output_type": "display_data"
    }
   ],
   "source": [
    "for i in range(len(np.unique(hmm_states))):\n",
    "    state_f1_score_arr = []\n",
    "    for f1_score_diff in f1_score_diffs:\n",
    "        state_f1_score_arr.append(f1_score_diff[i])\n",
    "    state_f1_score = np.vstack(state_f1_score_arr)\n",
    "    state_f1_score_mean = np.mean(state_f1_score, axis=0)\n",
    "    state_f1_score_std = np.std(state_f1_score, axis=0)\n",
    "\n",
    "    plt.figure(i)\n",
    "    plt.bar(np.arange(len(uiq_y_arr[i])), state_f1_score_mean)\n",
    "    plt.errorbar(np.arange(len(uiq_y_arr[i])), state_f1_score_mean, yerr=state_f1_score_std, ecolor='black', capsize=4, fmt = ' ')\n",
    "    plt.xticks(np.arange(len(uiq_y_arr[i])), uiq_y_arr[i])"
   ]
  },
  {
   "attachments": {},
   "cell_type": "markdown",
   "metadata": {},
   "source": [
    "predict body-groom rear degraded that are more 3-D"
   ]
  },
  {
   "cell_type": "markdown",
   "metadata": {},
   "source": [
    "For Bad behavior look at video, "
   ]
  },
  {
   "attachments": {},
   "cell_type": "markdown",
   "metadata": {},
   "source": [
    "behavoir trans into subtype and what it trans into"
   ]
  },
  {
   "attachments": {},
   "cell_type": "markdown",
   "metadata": {},
   "source": [
    "within state behaivor worse subtype has more variance than baseline"
   ]
  },
  {
   "cell_type": "markdown",
   "metadata": {},
   "source": [
    "within state behaivor better subtype has more variance than baseline"
   ]
  },
  {
   "cell_type": "markdown",
   "metadata": {},
   "source": [
    "worse behaviors are at decision boundary"
   ]
  },
  {
   "attachments": {},
   "cell_type": "markdown",
   "metadata": {},
   "source": [
    "explain the ones are doing better by linking to the trainsing beahvior previsojusly"
   ]
  }
 ],
 "metadata": {
  "kernelspec": {
   "display_name": "nsp",
   "language": "python",
   "name": "python3"
  },
  "language_info": {
   "codemirror_mode": {
    "name": "ipython",
    "version": 3
   },
   "file_extension": ".py",
   "mimetype": "text/x-python",
   "name": "python",
   "nbconvert_exporter": "python",
   "pygments_lexer": "ipython3",
   "version": "3.8.0"
  },
  "orig_nbformat": 4,
  "vscode": {
   "interpreter": {
    "hash": "8b4524c2285503ee5371e1693aa576532508aa4de32b1b2b5267b2ef38aeeb4c"
   }
  }
 },
 "nbformat": 4,
 "nbformat_minor": 2
}
