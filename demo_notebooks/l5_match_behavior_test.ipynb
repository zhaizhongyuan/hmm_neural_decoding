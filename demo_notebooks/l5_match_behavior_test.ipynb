{
 "cells": [
  {
   "cell_type": "code",
   "execution_count": 1,
   "id": "78dc2711",
   "metadata": {},
   "outputs": [],
   "source": [
    "import os\n",
    "import sys\n",
    "sys.path.append('../libraries/') # Append the path within which the user-defined class is in\n",
    "\n",
    "import joblib\n",
    "from joblib import Parallel, delayed\n",
    "import time\n",
    "import pickle\n",
    "\n",
    "import autograd.numpy as np\n",
    "import autograd.numpy.random as npr\n",
    "npr.seed(0)\n",
    "\n",
    "from hmmlearn import hmm\n",
    "import matplotlib.pyplot as plt\n",
    "import numpy as np\n",
    "from tkinter import *\n",
    "from tkinter.filedialog import askopenfilename, askdirectory\n",
    "from tqdm import tqdm\n",
    "import scipy.stats as stats\n",
    "\n",
    "import matplotlib.pyplot as plt\n",
    "%matplotlib inline\n",
    "\n",
    "import seaborn as sns\n",
    "sns.set_style(\"white\")\n",
    "sns.set_context(\"talk\")\n",
    "\n",
    "import ssm\n",
    "from ssm.util import find_permutation\n",
    "from ssm.plots import gradient_cmap, white_to_color_cmap\n",
    "\n",
    "from match_behavior import match_behavior"
   ]
  },
  {
   "cell_type": "markdown",
   "id": "f54a8a0b",
   "metadata": {},
   "source": [
    "## Initialize behavior matcher"
   ]
  },
  {
   "cell_type": "code",
   "execution_count": 2,
   "id": "6235ca30",
   "metadata": {},
   "outputs": [],
   "source": [
    "data_dir = '../processed_data'\n",
    "model_dir = '../hmm_models'\n",
    "behavior_matcher = match_behavior(data_dir, model_dir)"
   ]
  },
  {
   "cell_type": "markdown",
   "id": "efc48cfd",
   "metadata": {},
   "source": [
    "## Load neural data"
   ]
  },
  {
   "cell_type": "code",
   "execution_count": 3,
   "id": "e78a273c",
   "metadata": {},
   "outputs": [
    {
     "name": "stdout",
     "output_type": "stream",
     "text": [
      "Spike times are binned into shape for hmm: (36000, 46)\n"
     ]
    }
   ],
   "source": [
    "neural_file_name = 'm1_fr0.1hz_30hz_0s_7200s_0.1s_bins_nooverlap.sav'\n",
    "behavior_matcher.load_data(neural_file_name, sample_rate=10)"
   ]
  },
  {
   "cell_type": "markdown",
   "id": "9216dd6e",
   "metadata": {},
   "source": [
    "## Load behavior"
   ]
  },
  {
   "cell_type": "code",
   "execution_count": 5,
   "id": "84103b47",
   "metadata": {},
   "outputs": [
    {
     "name": "stdout",
     "output_type": "stream",
     "text": [
      "mouse stayed in nest for 0.28108749470484795% of time\n",
      "File #0 (a 6 body parts by 984391 frames) has 30 classes\n"
     ]
    }
   ],
   "source": [
    "behavior_file_name = 'ag25290_day2_iter13'\n",
    "behavior_names = ['insignificant', 'insignificant', 'insignificant', 'insignificant', 'rear',\n",
    "         'insignificant', 'insignificant', 'investigate type 1', 'investigate type 2', 'contra-itch',\n",
    "         'investigate type 3', 'insignificant', 'insignificant', 'insignificant', 'contra-body groom',\n",
    "         'face groom type 1', 'dive/scrunch', 'head groom', 'ipsi-orient', 'insignificant',\n",
    "         'face groom type 2', 'ipsi-body groom', 'ipsi-itch type 1', 'insignificant', 'insignificant', \n",
    "         'paw groom', 'locomotion', 'insignificant', 'contra-orient']\n",
    "behavior_matcher.load_behavior(behavior_file_name, behavior_names, frame_rate=60, delay=6.8503)"
   ]
  },
  {
   "cell_type": "markdown",
   "id": "15b19eca",
   "metadata": {},
   "source": [
    "## Load hmms and identify behaviors"
   ]
  },
  {
   "cell_type": "markdown",
   "id": "f75e9cd8",
   "metadata": {},
   "source": [
    "### Merged 16-state hmm"
   ]
  },
  {
   "cell_type": "code",
   "execution_count": 11,
   "id": "89891d5a-63e4-493e-b360-dee2a4911d41",
   "metadata": {},
   "outputs": [
    {
     "name": "stdout",
     "output_type": "stream",
     "text": [
      "--------------------------------------------------\n",
      "A 16-state hmm is used to match with behaviors.\n",
      "--------------------------------------------------\n",
      "5 unique behaviors identified.\n",
      "--------------------------------------------------\n",
      "locomotion: 7\n",
      "investigate type 2: 5\n",
      "face groom type 1: 2\n",
      "contra-itch: 1\n",
      "contra-body groom: 1\n"
     ]
    }
   ],
   "source": [
    "behavior_matcher.load_hmm(K=16, mode='merged')\n",
    "idt_behav_for_states, idt_behav_for_states_names = behavior_matcher.hmm_state_to_behavior(lead_seconds=0.1, lag_seconds=0.3)"
   ]
  },
  {
   "cell_type": "markdown",
   "id": "281f88d6",
   "metadata": {},
   "source": [
    "### Merged 32-state hmm"
   ]
  },
  {
   "cell_type": "code",
   "execution_count": 7,
   "id": "c9e52c02",
   "metadata": {},
   "outputs": [
    {
     "name": "stdout",
     "output_type": "stream",
     "text": [
      "--------------------------------------------------\n",
      "A 32-state hmm is used to match with behaviors.\n",
      "--------------------------------------------------\n",
      "7 unique behaviors identified.\n",
      "--------------------------------------------------\n",
      "investigate type 2: 11\n",
      "locomotion: 9\n",
      "contra-body groom: 4\n",
      "face groom type 1: 4\n",
      "contra-itch: 2\n",
      "head groom: 1\n",
      "ipsi-body groom: 1\n"
     ]
    }
   ],
   "source": [
    "behavior_matcher.load_hmm(K=32, mode='merged')\n",
    "idt_behav_for_states, idt_behav_for_states_names = behavior_matcher.hmm_state_to_behavior(lead_seconds=0.1, lag_seconds=0.3)"
   ]
  },
  {
   "cell_type": "markdown",
   "id": "4fc812fb",
   "metadata": {},
   "source": [
    "### Direct 50-state hmm"
   ]
  },
  {
   "cell_type": "code",
   "execution_count": 8,
   "id": "29f248d7",
   "metadata": {},
   "outputs": [
    {
     "name": "stdout",
     "output_type": "stream",
     "text": [
      "--------------------------------------------------\n",
      "A 50-state hmm is used to match with behaviors.\n",
      "--------------------------------------------------\n",
      "7 unique behaviors identified.\n",
      "--------------------------------------------------\n",
      "investigate type 2: 17\n",
      "locomotion: 11\n",
      "contra-itch: 7\n",
      "face groom type 1: 6\n",
      "contra-body groom: 4\n",
      "ipsi-body groom: 4\n",
      "head groom: 1\n"
     ]
    }
   ],
   "source": [
    "behavior_matcher.load_hmm(K=50, mode='direct')\n",
    "idt_behav_for_states, idt_behav_for_states_names = behavior_matcher.hmm_state_to_behavior(lead_seconds=0.1, lag_seconds=0.3)"
   ]
  },
  {
   "cell_type": "markdown",
   "id": "a0ae3d68",
   "metadata": {},
   "source": [
    "### Direct 100-state hmm"
   ]
  },
  {
   "cell_type": "code",
   "execution_count": 25,
   "id": "5323f622",
   "metadata": {},
   "outputs": [
    {
     "name": "stdout",
     "output_type": "stream",
     "text": [
      "--------------------------------------------------\n",
      "A 100-state hmm is used to match with behaviors.\n",
      "--------------------------------------------------\n",
      "10 unique behaviors identified.\n",
      "--------------------------------------------------\n",
      "investigate type 2: 31\n",
      "face groom type 1: 17\n",
      "locomotion: 17\n",
      "contra-body groom: 11\n",
      "contra-itch: 9\n",
      "head groom: 6\n",
      "ipsi-body groom: 4\n",
      "investigate type 1: 3\n",
      "ipsi-itch type 1: 1\n",
      "paw groom: 1\n"
     ]
    }
   ],
   "source": [
    "behavior_matcher.load_hmm(K=100, mode='direct')\n",
    "idt_behav_for_states, idt_behav_for_states_names = behavior_matcher.hmm_state_to_behavior(lead_seconds=0.1, lag_seconds=0.3)"
   ]
  },
  {
   "cell_type": "markdown",
   "id": "0f616342",
   "metadata": {},
   "source": [
    "### Direct 150-state hmm"
   ]
  },
  {
   "cell_type": "code",
   "execution_count": 53,
   "id": "634e223b",
   "metadata": {},
   "outputs": [
    {
     "name": "stdout",
     "output_type": "stream",
     "text": [
      "--------------------------------------------------\n",
      "A 150-state hmm is used to match with behaviors.\n",
      "--------------------------------------------------\n",
      "11 unique behaviors identified.\n",
      "--------------------------------------------------\n",
      "investigate type 2: 46\n",
      "locomotion: 22\n",
      "face groom type 1: 21\n",
      "ipsi-body groom: 21\n",
      "contra-itch: 13\n",
      "contra-body groom: 13\n",
      "head groom: 7\n",
      "investigate type 1: 4\n",
      "face groom type 2: 1\n",
      "ipsi-itch type 1: 1\n",
      "paw groom: 1\n"
     ]
    }
   ],
   "source": [
    "behavior_matcher.load_hmm(K=150, mode='direct')\n",
    "idt_behav_for_states, idt_behav_for_states_names = behavior_matcher.hmm_state_to_behavior(lead_seconds=0.1, lag_seconds=0.3)"
   ]
  },
  {
   "cell_type": "markdown",
   "id": "4d738905",
   "metadata": {},
   "source": [
    "### Direct 200-state hmm"
   ]
  },
  {
   "cell_type": "code",
   "execution_count": 55,
   "id": "d4f49187",
   "metadata": {},
   "outputs": [
    {
     "name": "stdout",
     "output_type": "stream",
     "text": [
      "--------------------------------------------------\n",
      "A 200-state hmm is used to match with behaviors.\n",
      "--------------------------------------------------\n",
      "10 unique behaviors identified.\n",
      "--------------------------------------------------\n",
      "investigate type 2: 56\n",
      "face groom type 1: 35\n",
      "locomotion: 30\n",
      "contra-itch: 23\n",
      "ipsi-body groom: 21\n",
      "head groom: 16\n",
      "contra-body groom: 15\n",
      "paw groom: 2\n",
      "investigate type 1: 1\n",
      "dive/scrunch: 1\n"
     ]
    }
   ],
   "source": [
    "behavior_matcher.load_hmm(K=200, mode='direct')\n",
    "idt_behav_for_states, idt_behav_for_states_names = behavior_matcher.hmm_state_to_behavior(lead_seconds=0.1, lag_seconds=0.3)"
   ]
  },
  {
   "cell_type": "markdown",
   "id": "b89cbb0d",
   "metadata": {},
   "source": [
    "## Match hmm states by a 16-state hmm with behaviors by various leading and laging seconds"
   ]
  },
  {
   "cell_type": "code",
   "execution_count": 31,
   "id": "438e6d28",
   "metadata": {},
   "outputs": [
    {
     "name": "stdout",
     "output_type": "stream",
     "text": [
      "--------------------------------------------------\n",
      "A 16-state hmm is used to match with behaviors.\n",
      "--------------------------------------------------\n"
     ]
    }
   ],
   "source": [
    "behavior_matcher.load_hmm(K=16, mode='merged')"
   ]
  },
  {
   "cell_type": "markdown",
   "id": "56211bcf",
   "metadata": {},
   "source": [
    "### Counting within 100ms prior to and 300ms post to on-site hmm states"
   ]
  },
  {
   "cell_type": "code",
   "execution_count": 32,
   "id": "1d682659",
   "metadata": {},
   "outputs": [
    {
     "name": "stdout",
     "output_type": "stream",
     "text": [
      "5 unique behaviors identified.\n",
      "--------------------------------------------------\n",
      "locomotion: 7\n",
      "investigate type 2: 5\n",
      "face groom type 1: 2\n",
      "contra-itch: 1\n",
      "contra-body groom: 1\n"
     ]
    }
   ],
   "source": [
    "idt_behav_for_states, idt_behav_for_states_names = behavior_matcher.hmm_state_to_behavior(lead_seconds=0.1, lag_seconds=0.3)"
   ]
  },
  {
   "cell_type": "markdown",
   "id": "cbd44055",
   "metadata": {},
   "source": [
    "### Counting within 100ms prior to and 200ms post to on-site hmm states"
   ]
  },
  {
   "cell_type": "code",
   "execution_count": 33,
   "id": "c59c6ebb",
   "metadata": {},
   "outputs": [
    {
     "name": "stdout",
     "output_type": "stream",
     "text": [
      "5 unique behaviors identified.\n",
      "--------------------------------------------------\n",
      "investigate type 2: 9\n",
      "locomotion: 3\n",
      "face groom type 1: 2\n",
      "contra-itch: 1\n",
      "contra-body groom: 1\n"
     ]
    }
   ],
   "source": [
    "idt_behav_for_states, idt_behav_for_states_names = behavior_matcher.hmm_state_to_behavior(lead_seconds=0.1, lag_seconds=0.2)"
   ]
  },
  {
   "cell_type": "markdown",
   "id": "b8460cae",
   "metadata": {},
   "source": [
    "### Counting within 100ms prior to and 100ms post to on-site hmm states"
   ]
  },
  {
   "cell_type": "code",
   "execution_count": 34,
   "id": "d7ca3a62",
   "metadata": {},
   "outputs": [
    {
     "name": "stdout",
     "output_type": "stream",
     "text": [
      "5 unique behaviors identified.\n",
      "--------------------------------------------------\n",
      "investigate type 2: 8\n",
      "locomotion: 4\n",
      "face groom type 1: 2\n",
      "contra-itch: 1\n",
      "contra-body groom: 1\n"
     ]
    }
   ],
   "source": [
    "idt_behav_for_states, idt_behav_for_states_names = behavior_matcher.hmm_state_to_behavior(lead_seconds=0.1, lag_seconds=0.1)"
   ]
  },
  {
   "cell_type": "markdown",
   "id": "f4a82174",
   "metadata": {},
   "source": [
    "### Counting within right at and 300ms post to on-site hmm states"
   ]
  },
  {
   "cell_type": "code",
   "execution_count": 48,
   "id": "f1f5a65a",
   "metadata": {},
   "outputs": [
    {
     "name": "stdout",
     "output_type": "stream",
     "text": [
      "5 unique behaviors identified.\n",
      "--------------------------------------------------\n",
      "investigate type 2: 9\n",
      "locomotion: 3\n",
      "face groom type 1: 2\n",
      "contra-itch: 1\n",
      "contra-body groom: 1\n"
     ]
    }
   ],
   "source": [
    "idt_behav_for_states, idt_behav_for_states_names = behavior_matcher.hmm_state_to_behavior(lead_seconds=0, lag_seconds=0.3)"
   ]
  },
  {
   "cell_type": "markdown",
   "id": "3b070acf",
   "metadata": {},
   "source": [
    "### Counting within right at and 200ms post to on-site hmm states"
   ]
  },
  {
   "cell_type": "code",
   "execution_count": 36,
   "id": "a94efdd5",
   "metadata": {},
   "outputs": [
    {
     "name": "stdout",
     "output_type": "stream",
     "text": [
      "5 unique behaviors identified.\n",
      "--------------------------------------------------\n",
      "investigate type 2: 9\n",
      "locomotion: 3\n",
      "face groom type 1: 2\n",
      "contra-itch: 1\n",
      "contra-body groom: 1\n"
     ]
    }
   ],
   "source": [
    "idt_behav_for_states, idt_behav_for_states_names = behavior_matcher.hmm_state_to_behavior(lead_seconds=0, lag_seconds=0.2)"
   ]
  },
  {
   "cell_type": "markdown",
   "id": "32b750f5",
   "metadata": {},
   "source": [
    "### Counting within right at and 100ms post to on-site hmm states"
   ]
  },
  {
   "cell_type": "code",
   "execution_count": 49,
   "id": "f9039e44",
   "metadata": {},
   "outputs": [
    {
     "name": "stdout",
     "output_type": "stream",
     "text": [
      "5 unique behaviors identified.\n",
      "--------------------------------------------------\n",
      "investigate type 2: 8\n",
      "locomotion: 4\n",
      "face groom type 1: 2\n",
      "contra-itch: 1\n",
      "contra-body groom: 1\n"
     ]
    }
   ],
   "source": [
    "idt_behav_for_states, idt_behav_for_states_names = behavior_matcher.hmm_state_to_behavior(lead_seconds=0, lag_seconds=0.1)"
   ]
  },
  {
   "cell_type": "markdown",
   "id": "85d2bcd2",
   "metadata": {},
   "source": [
    "### Counting within 200ms prior to and 300ms post to on-site hmm states"
   ]
  },
  {
   "cell_type": "code",
   "execution_count": 50,
   "id": "4e8be584",
   "metadata": {},
   "outputs": [
    {
     "name": "stdout",
     "output_type": "stream",
     "text": [
      "5 unique behaviors identified.\n",
      "--------------------------------------------------\n",
      "investigate type 2: 8\n",
      "locomotion: 4\n",
      "face groom type 1: 2\n",
      "contra-itch: 1\n",
      "contra-body groom: 1\n"
     ]
    }
   ],
   "source": [
    "idt_behav_for_states, idt_behav_for_states_names = behavior_matcher.hmm_state_to_behavior(lead_seconds=0.2, lag_seconds=0.3)"
   ]
  },
  {
   "cell_type": "markdown",
   "id": "1d1077e0",
   "metadata": {},
   "source": [
    "### Counting within 200ms prior to and 200ms post to on-site hmm states"
   ]
  },
  {
   "cell_type": "code",
   "execution_count": 43,
   "id": "1f1182d0",
   "metadata": {},
   "outputs": [
    {
     "name": "stdout",
     "output_type": "stream",
     "text": [
      "5 unique behaviors identified.\n",
      "--------------------------------------------------\n",
      "investigate type 2: 7\n",
      "locomotion: 5\n",
      "face groom type 1: 2\n",
      "contra-itch: 1\n",
      "contra-body groom: 1\n"
     ]
    }
   ],
   "source": [
    "idt_behav_for_states, idt_behav_for_states_names = behavior_matcher.hmm_state_to_behavior(lead_seconds=0.2, lag_seconds=0.2)"
   ]
  },
  {
   "cell_type": "markdown",
   "id": "fff7316a",
   "metadata": {},
   "source": [
    "### Counting within 200ms prior to and 100ms post to on-site hmm states"
   ]
  },
  {
   "cell_type": "code",
   "execution_count": 51,
   "id": "84bcb765",
   "metadata": {},
   "outputs": [
    {
     "name": "stdout",
     "output_type": "stream",
     "text": [
      "5 unique behaviors identified.\n",
      "--------------------------------------------------\n",
      "investigate type 2: 7\n",
      "locomotion: 5\n",
      "face groom type 1: 2\n",
      "contra-itch: 1\n",
      "contra-body groom: 1\n"
     ]
    }
   ],
   "source": [
    "idt_behav_for_states, idt_behav_for_states_names = behavior_matcher.hmm_state_to_behavior(lead_seconds=0.2, lag_seconds=0.1)"
   ]
  }
 ],
 "metadata": {
  "kernelspec": {
   "display_name": "Python 3.8.0 ('hidenseek')",
   "language": "python",
   "name": "python3"
  },
  "language_info": {
   "codemirror_mode": {
    "name": "ipython",
    "version": 3
   },
   "file_extension": ".py",
   "mimetype": "text/x-python",
   "name": "python",
   "nbconvert_exporter": "python",
   "pygments_lexer": "ipython3",
   "version": "3.8.0"
  },
  "vscode": {
   "interpreter": {
    "hash": "4c0823e86baae0f96ace674699db2c6d9fd7927a1b7ac1ee15c642961b7774c0"
   }
  }
 },
 "nbformat": 4,
 "nbformat_minor": 5
}
