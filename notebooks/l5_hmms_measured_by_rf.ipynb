{
 "cells": [
  {
   "cell_type": "code",
   "execution_count": 1,
   "id": "78dc2711",
   "metadata": {},
   "outputs": [],
   "source": [
    "import os\n",
    "import joblib\n",
    "from joblib import Parallel, delayed\n",
    "import time\n",
    "import pickle\n",
    "\n",
    "import autograd.numpy as np\n",
    "import autograd.numpy.random as npr\n",
    "npr.seed(0)\n",
    "\n",
    "from hmmlearn import hmm\n",
    "import matplotlib.pyplot as plt\n",
    "import numpy as np\n",
    "from tkinter import *\n",
    "from tkinter.filedialog import askopenfilename, askdirectory\n",
    "from tqdm import tqdm\n",
    "import scipy.stats as stats"
   ]
  },
  {
   "cell_type": "code",
   "execution_count": 2,
   "id": "24ce36af",
   "metadata": {},
   "outputs": [
    {
     "name": "stdout",
     "output_type": "stream",
     "text": [
      "Spike times are binned into shape for hmm: (36000, 46)\n"
     ]
    }
   ],
   "source": [
    "filename = '../processed_data/m1_fr0.1hz_30hz_0s_7200s_0.1s_bins_nooverlap.sav'\n",
    "\n",
    "with open(filename, 'rb') as file:\n",
    "    spike_times_all_neurons = joblib.load(file)\n",
    "\n",
    "# Convert to numpy array\n",
    "spike_times_all_neurons = np.array(spike_times_all_neurons)\n",
    "\n",
    "# Transpose into (71999, 90)\n",
    "spike_times_all_neurons = spike_times_all_neurons.T\n",
    "\n",
    "# Truncate two hour m1 recording to one hour l5 recording into (36000, 46), \n",
    "# 0th to 45th L5/6, 46th to 89th L2/3, 89th being the most shallow\n",
    "spike_times_l5_neurons_1h = spike_times_all_neurons[:36000, :46]\n",
    "\n",
    "# # (Number of 100-ms bins, Number of l2 neurons)\n",
    "# T_1h, D_m1 = spike_times_all_neurons_1h.shape\n",
    "\n",
    "# Z-score each neuron, i.e. firing rates of each neuron across time sum to 0\n",
    "spike_times_l5_neurons_1h_zscored = stats.zscore(spike_times_l5_neurons_1h) # Default axis is 0\n",
    "\n",
    "data = spike_times_l5_neurons_1h_zscored\n",
    "print(f'Spike times are binned into shape for hmm: {data.shape}')"
   ]
  },
  {
   "cell_type": "code",
   "execution_count": 3,
   "id": "b2ace3de-716a-43a5-a68f-8076f2a5161f",
   "metadata": {},
   "outputs": [],
   "source": [
    "model_dir = \"../hmm_models/\""
   ]
  },
  {
   "cell_type": "code",
   "execution_count": 4,
   "id": "7d10ff87-09f1-4989-b61c-98f309e0a864",
   "metadata": {},
   "outputs": [],
   "source": [
    "K = 16"
   ]
  },
  {
   "cell_type": "code",
   "execution_count": 5,
   "id": "89322cdf",
   "metadata": {},
   "outputs": [
    {
     "name": "stdout",
     "output_type": "stream",
     "text": [
      "1h_l5_possion_merged_16_latents.hmm loaded.\n"
     ]
    }
   ],
   "source": [
    "# Load model\n",
    "hmm_mrg = pickle.load(open(os.path.join(model_dir, f\"1h_l5_possion_merged_{K}_latents\" + \".hmm\"), \"rb\"))\n",
    "print(f'1h_l5_possion_merged_{K}_latents.hmm loaded.')"
   ]
  },
  {
   "cell_type": "code",
   "execution_count": 6,
   "id": "036d9ee3-b5ea-4f35-9ea0-24d761c9ee3e",
   "metadata": {},
   "outputs": [
    {
     "data": {
      "text/plain": [
       "537309.4751941374"
      ]
     },
     "execution_count": 6,
     "metadata": {},
     "output_type": "execute_result"
    }
   ],
   "source": [
    "hmm_mrg.score(data)"
   ]
  },
  {
   "cell_type": "code",
   "execution_count": 7,
   "id": "803dc14e-8002-4a83-aa02-a28cd91b74f4",
   "metadata": {},
   "outputs": [
    {
     "name": "stdout",
     "output_type": "stream",
     "text": [
      "1h_l5_possion_direct_16_latents.hmm loaded.\n"
     ]
    }
   ],
   "source": [
    "# Load model\n",
    "hmm_dir = pickle.load(open(os.path.join(model_dir, f\"1h_l5_possion_direct_{K}_latents\" + \".hmm\"), \"rb\"))\n",
    "print(f'1h_l5_possion_direct_{K}_latents.hmm loaded.')"
   ]
  },
  {
   "cell_type": "code",
   "execution_count": 8,
   "id": "d0cb144d-c396-406f-988f-67222b76533a",
   "metadata": {},
   "outputs": [
    {
     "data": {
      "text/plain": [
       "209182.51092923767"
      ]
     },
     "execution_count": 8,
     "metadata": {},
     "output_type": "execute_result"
    }
   ],
   "source": [
    "hmm_dir.score(data)"
   ]
  },
  {
   "cell_type": "markdown",
   "id": "6e2d2a67-be08-4c7c-95cf-9b91a6543725",
   "metadata": {},
   "source": [
    "## use random forest to measure the distinctiveness of clusters assigned by hmm model"
   ]
  },
  {
   "cell_type": "code",
   "execution_count": 9,
   "id": "2271848f-e45a-4138-b70b-98ce66205377",
   "metadata": {},
   "outputs": [],
   "source": [
    "from sklearn.ensemble import RandomForestClassifier\n",
    "from sklearn.model_selection import train_test_split\n",
    "from sklearn.metrics import f1_score\n",
    "from sklearn.metrics import confusion_matrix\n",
    "\n",
    "def rf_f1_score(hmm_model, data, limit_count=100, verbose=False):\n",
    "    Z2 = hmm_model.predict(data)\n",
    "    X = data.copy()\n",
    "    y = Z2.copy()\n",
    "    X_train, X_test, y_train, y_test = train_test_split(X, y, test_size=0.2, random_state=42)\n",
    "    if verbose:\n",
    "        print(X.shape, y.shape, [len(np.where(y == s)[0]) for s in np.unique(Z2)])\n",
    "    np.random.seed(2022)\n",
    "    y_subsampled = []\n",
    "    X_subsampled = []\n",
    "    for s in np.unique(Z2):\n",
    "        idx_s = np.where(y==s)[0]\n",
    "        try:\n",
    "            sampled_idx_s = np.random.choice(len(idx_s), limit_count, replace=False)\n",
    "        except:\n",
    "            sampled_idx_s = np.random.choice(len(idx_s), len(idx_s), replace=False)\n",
    "        y_subsampled.append(y[idx_s[sampled_idx_s]])\n",
    "        X_subsampled.append(X[idx_s[sampled_idx_s], :])\n",
    "    if verbose:\n",
    "        print(np.hstack(y_subsampled).shape, np.vstack(X_subsampled).shape)\n",
    "    X_train, X_test, y_train, y_test = train_test_split(np.vstack(X_subsampled), np.hstack(y_subsampled), \n",
    "                                                        test_size=0.2, random_state=42)\n",
    "    clf = RandomForestClassifier(n_estimators=200, random_state=42, class_weight='balanced_subsample', n_jobs=-1)\n",
    "    clf.fit(X_train, y_train)\n",
    "    predict = clf.predict(X_test)\n",
    "    print(50*'=')\n",
    "    print(f'average: {f1_score(y_test, predict, average=\"macro\")}')\n",
    "    print(50*'-')\n",
    "    print(f'indiv:{f1_score(y_test, predict, average=None)}')\n",
    "    print(50*'=')"
   ]
  },
  {
   "cell_type": "markdown",
   "id": "2f970755-a6f1-418e-9361-7a054d7d4a10",
   "metadata": {},
   "source": [
    "## direct model best performance"
   ]
  },
  {
   "cell_type": "code",
   "execution_count": 10,
   "id": "4d05beb5-650d-4448-add5-f97b9cc51083",
   "metadata": {},
   "outputs": [
    {
     "name": "stdout",
     "output_type": "stream",
     "text": [
      "==================================================\n",
      "average: 0.8222432682875296\n",
      "--------------------------------------------------\n",
      "indiv:[0.31578947 0.96862745 0.95145631 0.86307054 0.96280992 0.703125\n",
      " 0.83916084 0.88328076 0.86556169 0.87356322 0.90909091 0.86680761\n",
      " 0.75621891 0.94056848 0.8685259  0.58823529]\n",
      "==================================================\n"
     ]
    }
   ],
   "source": [
    "rf_f1_score(hmm_dir, data, limit_count=1250, verbose=False)"
   ]
  },
  {
   "cell_type": "code",
   "execution_count": 11,
   "id": "b811cd38-230d-4158-bead-c8407ee73112",
   "metadata": {},
   "outputs": [
    {
     "name": "stdout",
     "output_type": "stream",
     "text": [
      "==================================================\n",
      "average: 0.8953592845582208\n",
      "--------------------------------------------------\n",
      "indiv:[0.96732026 0.93574297 0.8981289  0.8677686  0.85375494 0.944\n",
      " 0.9043152  0.879046   0.85591398 0.87712665 0.81725888 0.94653465\n",
      " 0.88888889 0.88076923 0.88209607 0.92708333]\n",
      "==================================================\n"
     ]
    }
   ],
   "source": [
    "rf_f1_score(hmm_mrg, data, limit_count=1250, verbose=False)"
   ]
  },
  {
   "cell_type": "markdown",
   "id": "79aa359a-1e47-4953-85a9-99d97aa92bb1",
   "metadata": {},
   "source": [
    "## merged model best performance"
   ]
  },
  {
   "cell_type": "code",
   "execution_count": 12,
   "id": "3590b895-fa05-458d-9552-ca8f50bc0248",
   "metadata": {},
   "outputs": [
    {
     "name": "stdout",
     "output_type": "stream",
     "text": [
      "==================================================\n",
      "average: 0.9000353583987244\n",
      "--------------------------------------------------\n",
      "indiv:[0.94197952 0.94074074 0.89795918 0.89579525 0.82142857 0.95378928\n",
      " 0.9165247  0.90625    0.85714286 0.85869565 0.8        0.94639556\n",
      " 0.92334495 0.9        0.88073394 0.95978552]\n",
      "==================================================\n"
     ]
    }
   ],
   "source": [
    "rf_f1_score(hmm_mrg, data, limit_count=1360, verbose=False)"
   ]
  },
  {
   "cell_type": "code",
   "execution_count": 13,
   "id": "af141945-8730-4d50-9e60-724abbd9af92",
   "metadata": {},
   "outputs": [
    {
     "name": "stdout",
     "output_type": "stream",
     "text": [
      "==================================================\n",
      "average: 0.8109200688711339\n",
      "--------------------------------------------------\n",
      "indiv:[0.35294118 0.9893617  0.94360902 0.80263158 0.95254237 0.66666667\n",
      " 0.84722222 0.89570552 0.86779661 0.86880466 0.91139241 0.84615385\n",
      " 0.74489796 0.94923858 0.86516854 0.47058824]\n",
      "==================================================\n"
     ]
    }
   ],
   "source": [
    "rf_f1_score(hmm_dir, data, limit_count=1360, verbose=False)"
   ]
  }
 ],
 "metadata": {
  "kernelspec": {
   "display_name": "Python 3.8.0 ('hidenseek')",
   "language": "python",
   "name": "python3"
  },
  "language_info": {
   "codemirror_mode": {
    "name": "ipython",
    "version": 3
   },
   "file_extension": ".py",
   "mimetype": "text/x-python",
   "name": "python",
   "nbconvert_exporter": "python",
   "pygments_lexer": "ipython3",
   "version": "3.8.0"
  },
  "vscode": {
   "interpreter": {
    "hash": "4c0823e86baae0f96ace674699db2c6d9fd7927a1b7ac1ee15c642961b7774c0"
   }
  }
 },
 "nbformat": 4,
 "nbformat_minor": 5
}
