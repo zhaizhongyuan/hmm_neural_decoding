{
 "cells": [
  {
   "cell_type": "code",
   "execution_count": 14,
   "metadata": {},
   "outputs": [],
   "source": [
    "import os\n",
    "import sys\n",
    "sys.path.append('../libraries/')\n",
    "from match_behavior import match_behavior\n",
    "from moviepy.editor import VideoFileClip, concatenate_videoclips, clips_array, vfx"
   ]
  },
  {
   "cell_type": "markdown",
   "metadata": {},
   "source": [
    "## Load neural data"
   ]
  },
  {
   "cell_type": "code",
   "execution_count": 15,
   "metadata": {},
   "outputs": [],
   "source": [
    "data_dir = '../processed_data'\n",
    "model_dir = '../hmm_models'\n",
    "behavior_matcher = match_behavior(data_dir, model_dir)"
   ]
  },
  {
   "cell_type": "code",
   "execution_count": 16,
   "metadata": {},
   "outputs": [
    {
     "name": "stdout",
     "output_type": "stream",
     "text": [
      "Spike times are binned into shape for hmm: (36000, 46)\n"
     ]
    }
   ],
   "source": [
    "neural_file_name = 'm1_fr0.1hz_30hz_0s_7200s_0.1s_bins_nooverlap.sav'\n",
    "behavior_matcher.load_data(neural_file_name, sample_rate=10)"
   ]
  },
  {
   "cell_type": "markdown",
   "metadata": {},
   "source": [
    "## Load behaviors"
   ]
  },
  {
   "cell_type": "code",
   "execution_count": 17,
   "metadata": {},
   "outputs": [
    {
     "name": "stdout",
     "output_type": "stream",
     "text": [
      "mouse stayed in nest for 0.28108749470484795% of time\n",
      "File #0 (a 6 body parts by 984391 frames) has 30 classes\n"
     ]
    }
   ],
   "source": [
    "behavior_file_name = 'ag25290_day2_iter13'\n",
    "behavior_names = ['insignificant', 'insignificant', 'insignificant', 'insignificant', 'rear',\n",
    "         'insignificant', 'insignificant', 'investigate type 1', 'investigate type 2', 'contra-itch',\n",
    "         'investigate type 3', 'insignificant', 'insignificant', 'insignificant', 'contra-body groom',\n",
    "         'face groom type 1', 'dive/scrunch', 'head groom', 'ipsi-orient', 'insignificant',\n",
    "         'face groom type 2', 'ipsi-body groom', 'ipsi-itch type 1', 'insignificant', 'insignificant', \n",
    "         'paw groom', 'locomotion', 'insignificant', 'contra-orient']\n",
    "behavior_matcher.load_behavior(behavior_file_name, behavior_names, frame_rate=60, delay=6.8503)"
   ]
  },
  {
   "cell_type": "markdown",
   "metadata": {},
   "source": [
    "## Load hmm"
   ]
  },
  {
   "cell_type": "code",
   "execution_count": 18,
   "metadata": {},
   "outputs": [
    {
     "name": "stdout",
     "output_type": "stream",
     "text": [
      "--------------------------------------------------\n",
      "A 16-state hmm is used to match with behaviors.\n",
      "--------------------------------------------------\n"
     ]
    }
   ],
   "source": [
    "behavior_matcher.load_hmm(16, 'merged')"
   ]
  },
  {
   "cell_type": "markdown",
   "metadata": {},
   "source": [
    "## Load video"
   ]
  },
  {
   "cell_type": "code",
   "execution_count": 19,
   "metadata": {},
   "outputs": [
    {
     "name": "stdout",
     "output_type": "stream",
     "text": [
      "The 1st hour video clip loaded.\n"
     ]
    }
   ],
   "source": [
    "video_dir = os.path.join(data_dir, 'video')\n",
    "video_file_name = '2021-11-23_13-19-58_1h.mp4'\n",
    "# Get 1h clip\n",
    "clip = VideoFileClip(os.path.join(video_dir, video_file_name))\n",
    "# Set frame rate\n",
    "clip.set_fps(behavior_matcher.frame_rate)\n",
    "print(f'The 1st hour video clip loaded.')"
   ]
  },
  {
   "cell_type": "markdown",
   "metadata": {},
   "source": [
    "## Match behaviors identified for hmm states with video"
   ]
  },
  {
   "cell_type": "code",
   "execution_count": 23,
   "metadata": {},
   "outputs": [],
   "source": [
    "def hmm_defined_behavior_to_video(clip, behavior_matcher, lead_seconds, lag_seconds):\n",
    "    hmm_states = behavior_matcher.hmm_states_on_data()\n",
    "    _, idt_behav_for_states_names = behavior_matcher.hmm_state_to_behavior(lead_seconds, lag_seconds)\n",
    "\n",
    "    sample_rate = behavior_matcher.sample_rate\n",
    "    behavior_counter = {}\n",
    "    for i, hmm_state in enumerate(np.unique(hmm_states)):\n",
    "        behavior_name = idt_behav_for_states_names[i]\n",
    "        if behavior_name in behavior_counter:\n",
    "            behavior_counter[behavior_name] = behavior_counter[behavior_name] + 1\n",
    "        else:\n",
    "            behavior_counter.update({behavior_name: 0})\n",
    "\n",
    "        print(f'Preparing video clip for {behavior_name}_{behavior_counter[behavior_name]}...')\n",
    "        hmm_state_idcs = np.where(hmm_states == hmm_state)[0]\n",
    "        hmm_state_clip = concatenate_videoclips([clip.subclip(idx/sample_rate, idx/sample_rate + 1/sample_rate) for idx in hmm_state_idcs])\n",
    "        hmm_state_clip.set_fps(behavior_matcher.frame_rate)\n",
    "        print('Video clip prepared.')\n",
    "\n",
    "        session_dir = os.path.join(video_dir, f'lead_{lead_seconds}_s_lag_{lag_seconds}_s')\n",
    "        if not os.path.exists(session_dir):\n",
    "            os.mkdir(session_dir)\n",
    "        behavior_dir = os.path.join(session_dir, behavior_name)\n",
    "        if not os.path.exists(behavior_dir):\n",
    "            os.mkdir(behavior_dir)\n",
    "        print(f'Writing video clip to folder {behavior_dir}...')\n",
    "        hmm_state_clip.write_videofile(os.path.join(behavior_dir, f'hmm_state_{hmm_state}_{behavior_name}_{behavior_counter[behavior_name]}_lead_{lead_seconds}_s_lag_{lag_seconds}_s.mp4'),\n",
    "                                        codec='mpeg4',\n",
    "                                        threads='20', bitrate='32768k', # 8K resolution\n",
    "                                        ffmpeg_params=[\n",
    "                                            '-tile-columns', '6', '-frame-parallel', '0',\n",
    "                                            '-auto-alt-ref', '1', '-lag-in-frames', '25', '-g',\n",
    "                                            '128', '-pix_fmt', 'yuv420p', '-row-mt', '1'])\n",
    "        print(f'hmm_state_{hmm_state}_{behavior_name}_{behavior_counter[behavior_name]}_lead_{lead_seconds}_s_lag_{lag_seconds}_s.mp4 is written to {behavior_dir}.')"
   ]
  },
  {
   "cell_type": "code",
   "execution_count": null,
   "metadata": {},
   "outputs": [],
   "source": [
    "hmm_defined_behavior_to_video(clip, behavior_matcher, lead_seconds=0.1, lag_seconds=0.3)"
   ]
  },
  {
   "cell_type": "code",
   "execution_count": null,
   "metadata": {},
   "outputs": [],
   "source": [
    "hmm_defined_behavior_to_video(clip, behavior_matcher, lead_seconds=0, lag_seconds=0.3)"
   ]
  },
  {
   "cell_type": "markdown",
   "metadata": {},
   "source": [
    "## Display locomotions altogether in folder lead_0.1_s_lag_0.3_s/"
   ]
  },
  {
   "cell_type": "code",
   "execution_count": null,
   "metadata": {},
   "outputs": [],
   "source": [
    "# Total 7 locomotions\n",
    "lead_1_lag_3_dir = os.path.join(video_dir, 'lead_0.1_s_lag_0.3_s')\n",
    "behav_dir = os.path.join(lead_1_lag_3_dir, 'locomotion')\n",
    "file_list = os.listdir(behav_dir)\n",
    "file_list.append('background_filler.mp4')\n",
    "file_list.append('background_filler.mp4')\n",
    "\n",
    "# Make up to 9 slots for the sake of formatting\n",
    "rows, cols = (3, 3)\n",
    "clips_arr = [[0]*cols for _ in range(rows)]\n",
    "for i, file_name in enumerate(file_list):\n",
    "    try:\n",
    "        clip = VideoFileClip(os.path.join(behav_dir, file_name)).subclip(0, 60)\n",
    "    except:\n",
    "        clip = VideoFileClip(os.path.join(video_dir, file_name)).subclip(0, 60)\n",
    "    clip.set_fps(60)\n",
    "    clip.fx(vfx.speedx, 0.125)\n",
    "    clips_arr[i//cols][i%cols] = clip\n",
    "\n",
    "collect_clip = clips_array(clips_arr)\n",
    "collect_clip.write_videofile(os.path.join(lead_1_lag_3_dir, 'locomotion_collect.mp4'),\n",
    "                                        codec='mpeg4',\n",
    "                                        threads='20', bitrate='32768k', # 8K resolution\n",
    "                                        ffmpeg_params=[\n",
    "                                            '-tile-columns', '6', '-frame-parallel', '0',\n",
    "                                            '-auto-alt-ref', '1', '-lag-in-frames', '25', '-g',\n",
    "                                            '128', '-pix_fmt', 'yuv420p', '-row-mt', '1'])\n"
   ]
  },
  {
   "cell_type": "markdown",
   "metadata": {},
   "source": [
    "## Display investigate type 2s altogether in folder lead_0_s_lag_0.3_s/"
   ]
  },
  {
   "cell_type": "code",
   "execution_count": 105,
   "metadata": {},
   "outputs": [
    {
     "name": "stdout",
     "output_type": "stream",
     "text": [
      "Moviepy - Building video ../processed_data/video/investigate type 2_collect.mp4.\n",
      "MoviePy - Writing audio in investigate type 2_collectTEMP_MPY_wvf_snd.mp3\n"
     ]
    },
    {
     "name": "stderr",
     "output_type": "stream",
     "text": [
      "                                                                     \r"
     ]
    },
    {
     "name": "stdout",
     "output_type": "stream",
     "text": [
      "MoviePy - Done.\n",
      "Moviepy - Writing video ../processed_data/video/investigate type 2_collect.mp4\n",
      "\n"
     ]
    },
    {
     "name": "stderr",
     "output_type": "stream",
     "text": [
      "                                                                "
     ]
    },
    {
     "name": "stdout",
     "output_type": "stream",
     "text": [
      "Moviepy - Done !\n",
      "Moviepy - video ready ../processed_data/video/investigate type 2_collect.mp4\n"
     ]
    },
    {
     "name": "stderr",
     "output_type": "stream",
     "text": [
      "\r"
     ]
    }
   ],
   "source": [
    "# Total 9 investigate type 2s\n",
    "lead_0_lag_3_dir = os.path.join(video_dir, 'lead_0_s_lag_0.3_s')\n",
    "behav_dir = os.path.join(lead_0_lag_3_dir, 'investigate type 2')\n",
    "file_list = os.listdir(behav_dir)\n",
    "\n",
    "# Make up to 9 slots for the sake of formatting\n",
    "rows, cols = (3, 3)\n",
    "clips_arr = [[0]*cols for _ in range(rows)]\n",
    "for i, file_name in enumerate(file_list):\n",
    "    try:\n",
    "        clip = VideoFileClip(os.path.join(behav_dir, file_name)).subclip(0, 60)\n",
    "    except:\n",
    "        clip = VideoFileClip(os.path.join(video_dir, file_name)).subclip(0, 60)\n",
    "    clip.set_fps(60)\n",
    "    clip.fx(vfx.speedx, 0.125)\n",
    "    clips_arr[i//cols][i%cols] = clip\n",
    "\n",
    "collect_clip = clips_array(clips_arr)\n",
    "collect_clip.write_videofile(os.path.join(lead_0_lag_3_dir, 'investigate type 2_collect.mp4'),\n",
    "                                        codec='mpeg4',\n",
    "                                        threads='20', bitrate='32768k', # 8K resolution\n",
    "                                        ffmpeg_params=[\n",
    "                                            '-tile-columns', '6', '-frame-parallel', '0',\n",
    "                                            '-auto-alt-ref', '1', '-lag-in-frames', '25', '-g',\n",
    "                                            '128', '-pix_fmt', 'yuv420p', '-row-mt', '1'])"
   ]
  }
 ],
 "metadata": {
  "kernelspec": {
   "display_name": "Python 3.8.0 ('hidenseek')",
   "language": "python",
   "name": "python3"
  },
  "language_info": {
   "codemirror_mode": {
    "name": "ipython",
    "version": 3
   },
   "file_extension": ".py",
   "mimetype": "text/x-python",
   "name": "python",
   "nbconvert_exporter": "python",
   "pygments_lexer": "ipython3",
   "version": "3.8.0"
  },
  "orig_nbformat": 4,
  "vscode": {
   "interpreter": {
    "hash": "4c0823e86baae0f96ace674699db2c6d9fd7927a1b7ac1ee15c642961b7774c0"
   }
  }
 },
 "nbformat": 4,
 "nbformat_minor": 2
}
